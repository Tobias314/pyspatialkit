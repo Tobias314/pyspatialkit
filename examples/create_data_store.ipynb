{
 "cells": [
  {
   "cell_type": "code",
   "execution_count": 7,
   "id": "63c8f1ff-adb6-4ff4-91b5-ad36acd8b999",
   "metadata": {},
   "outputs": [
    {
     "name": "stdout",
     "output_type": "stream",
     "text": [
      "The autoreload extension is already loaded. To reload it, use:\n",
      "  %reload_ext autoreload\n"
     ]
    }
   ],
   "source": [
    "%load_ext autoreload\n",
    "%autoreload 2\n",
    "%matplotlib widget"
   ]
  },
  {
   "cell_type": "code",
   "execution_count": 5,
   "id": "1ff03489-fc96-49f9-8139-421294cbdb02",
   "metadata": {},
   "outputs": [],
   "source": [
    "from pathlib import Path\n",
    "from glob import glob\n",
    "from tqdm.auto import tqdm\n",
    "import numpy as np\n",
    "from scipy.spatial import KDTree\n",
    "from matplotlib import pyplot as plt\n",
    "import matplotlib\n",
    "import tiledb\n",
    "from tqdm.auto import tqdm\n",
    "import geopandas as gpd"
   ]
  },
  {
   "cell_type": "code",
   "execution_count": 35,
   "id": "4502c76d-94c1-4d1a-89e3-8e10b56d3c29",
   "metadata": {},
   "outputs": [],
   "source": [
    "from pyspatialkit.storage.geostorage import GeoStorage\n",
    "from pyspatialkit.dataobjects.geoshape import GeoShape\n",
    "from pyspatialkit.dataobjects.georaster import GeoRaster\n",
    "from pyspatialkit.dataobjects.geopointcloud import GeoPointCloud\n",
    "from pyspatialkit.spacedescriptors.georect import GeoRect\n",
    "from pyspatialkit.crs.geocrs import GeoCrs\n",
    "from pyspatialkit.spacedescriptors.geobox2d import GeoBox2d"
   ]
  },
  {
   "cell_type": "code",
   "execution_count": 8,
   "id": "5a62454f-a889-4ccf-abae-29870d4382c1",
   "metadata": {},
   "outputs": [],
   "source": [
    "DATA_PATH = Path('/hpi/fs00/home/tobias.pietz/pyspatialkit/data/')\n",
    "TMP_DATA_PATH = Path('/tmp/pyspatialkit/data/')\n",
    "GEOSTORAGE_PATH = TMP_DATA_PATH / 'geostore/'\n",
    "GEOSTORAGE_PATH.mkdir(exist_ok=True, parents=True)\n",
    "DGM_PATH = DATA_PATH / 'dgm2/'\n",
    "DOM_PATH = DATA_PATH / 'dom2/'\n",
    "RGBI_PATH = DATA_PATH / 'rgbi100/'\n",
    "CRS = GeoCrs.from_epsg(25832)\n",
    "AOI = GeoShape.from_shapefile(DATA_PATH / 'aoi.shp').to_crs(CRS)\n",
    "AOI_BOUNDS = AOI.bounds"
   ]
  },
  {
   "cell_type": "code",
   "execution_count": 9,
   "id": "5c7e315e-b492-4d0e-87c4-79853206e4b5",
   "metadata": {},
   "outputs": [],
   "source": [
    "storage = GeoStorage(GEOSTORAGE_PATH)"
   ]
  },
  {
   "cell_type": "code",
   "execution_count": 10,
   "id": "68487219-99a2-4567-b9d0-6ad2fdca551d",
   "metadata": {},
   "outputs": [
    {
     "data": {
      "application/vnd.jupyter.widget-view+json": {
       "model_id": "d2063c14fdf8481ba394e899f64bc159",
       "version_major": 2,
       "version_minor": 0
      },
      "text/plain": [
       "  0%|          | 0/722 [00:00<?, ?it/s]"
      ]
     },
     "metadata": {},
     "output_type": "display_data"
    },
    {
     "name": "stdout",
     "output_type": "stream",
     "text": [
      "UPDATING PYRAMIDS\n"
     ]
    }
   ],
   "source": [
    "rgbi_layer = storage.add_raster_layer('rgbi', num_bands = 4, dtype=np.uint8, crs=CRS, bounds=AOI_BOUNDS,\n",
    "                                      build_pyramid=True)\n",
    "rgbi_layer.begin_pyramid_update_transaction()\n",
    "pathlist = list(RGBI_PATH.glob('*.tif'))\n",
    "for path in tqdm(pathlist):\n",
    "    raster = GeoRaster.from_file(path)\n",
    "    raster.data = raster.data.astype(np.uint8)\n",
    "    rgbi_layer.write_data(raster)\n",
    "rgbi_layer.commit_pyramid_update_transaction()"
   ]
  },
  {
   "cell_type": "code",
   "execution_count": 15,
   "id": "fbbd2001-b879-49a7-8974-2b2b0db5a9ad",
   "metadata": {},
   "outputs": [
    {
     "data": {
      "text/plain": [
       "[['/tmp/pyspatialkit/data/geostore/dom/backend/level_0', None]]"
      ]
     },
     "execution_count": 15,
     "metadata": {},
     "output_type": "execute_result"
    }
   ],
   "source": [
    "dom_layer.backend.levels"
   ]
  },
  {
   "cell_type": "code",
   "execution_count": 27,
   "id": "062df93e-bfdd-4459-bab4-12a40a99694e",
   "metadata": {},
   "outputs": [],
   "source": [
    "dom_layer.delete_permanently()"
   ]
  },
  {
   "cell_type": "code",
   "execution_count": 33,
   "id": "3321c695-088a-4283-a7f5-5c96f4f74842",
   "metadata": {},
   "outputs": [
    {
     "name": "stdout",
     "output_type": "stream",
     "text": [
      "extent:[ 71271.3483359   43257.17673566 120000.        ]\n",
      "size[100. 100. 100.]\n"
     ]
    },
    {
     "data": {
      "application/vnd.jupyter.widget-view+json": {
       "model_id": "3208657d2751403eb80f41c567e1f89d",
       "version_major": 2,
       "version_minor": 0
      },
      "text/plain": [
       "  0%|          | 0/722 [00:00<?, ?it/s]"
      ]
     },
     "metadata": {},
     "output_type": "display_data"
    },
    {
     "name": "stderr",
     "output_type": "stream",
     "text": [
      "/hpi/fs00/home/tobias.pietz/pyspatialkit/pyspatialkit/pyspatialkit/storage/pointcloud/tiledbsparsebackend.py:118: UserWarning: Out of bounds write, writing only values inside of layer bounds...\n",
      "  # TODO: merge bounds at every level to increase performance of batch updates\n"
     ]
    }
   ],
   "source": [
    "pc_data_scheme = {'x': np.dtype('float64'), 'y': np.dtype('float64'), 'z': np.dtype('float64')}\n",
    "dom_layer = storage.add_point_cloud_layer('dom', crs=CRS, bounds=AOI_BOUNDS, data_scheme=pc_data_scheme,\n",
    "                                          build_pyramid=False, point_density=1)\n",
    "pathlist = list(DOM_PATH.glob('*.xyz'))\n",
    "for path in tqdm(pathlist):\n",
    "    pc = GeoPointCloud.from_xyz_file(path, crs=CRS)\n",
    "    dom_layer.write_data(pc)"
   ]
  },
  {
   "cell_type": "code",
   "execution_count": 34,
   "id": "4cfe2bb6-8fb1-401c-b39a-af9daa7ce848",
   "metadata": {},
   "outputs": [
    {
     "name": "stdout",
     "output_type": "stream",
     "text": [
      "extent:[ 71271.3483359   43257.17673566 120000.        ]\n",
      "size[100. 100. 100.]\n"
     ]
    },
    {
     "data": {
      "application/vnd.jupyter.widget-view+json": {
       "model_id": "010118638c8f4164b3a77493e2992d6d",
       "version_major": 2,
       "version_minor": 0
      },
      "text/plain": [
       "  0%|          | 0/722 [00:00<?, ?it/s]"
      ]
     },
     "metadata": {},
     "output_type": "display_data"
    }
   ],
   "source": [
    "pc_data_scheme = {'x': np.dtype('float64'), 'y': np.dtype('float64'), 'z': np.dtype('float64')}\n",
    "dgm_layer = storage.add_point_cloud_layer('dgm', crs=CRS, bounds=AOI_BOUNDS, data_scheme=pc_data_scheme,\n",
    "                                          build_pyramid=False, point_density=1)\n",
    "pathlist = list(DGM_PATH.glob('*.xyz'))\n",
    "for path in tqdm(pathlist):\n",
    "    pc = GeoPointCloud.from_xyz_file(path, crs=CRS)\n",
    "    dgm_layer.write_data(pc)"
   ]
  },
  {
   "cell_type": "code",
   "execution_count": 38,
   "id": "9a23a145-9602-4c23-93cf-08ff063d2136",
   "metadata": {},
   "outputs": [],
   "source": [
    "test_bounds = (722830.9, 5747402.9, 723030.6, 5747608.7)\n",
    "test_box = GeoBox2d.from_bounds(test_bounds, crs=CRS)"
   ]
  },
  {
   "cell_type": "code",
   "execution_count": 39,
   "id": "b725fd01-888b-4ec8-b481-5b2e4054e67d",
   "metadata": {},
   "outputs": [],
   "source": [
    "test_dom = dom_layer.get_data(test_box)"
   ]
  },
  {
   "cell_type": "code",
   "execution_count": null,
   "id": "af3bd285-2a41-4aef-88df-e05caf108848",
   "metadata": {},
   "outputs": [],
   "source": [
    "test_dom.plot_o3dj()"
   ]
  }
 ],
 "metadata": {
  "kernelspec": {
   "display_name": "Python 3 (ipykernel)",
   "language": "python",
   "name": "python3"
  },
  "language_info": {
   "codemirror_mode": {
    "name": "ipython",
    "version": 3
   },
   "file_extension": ".py",
   "mimetype": "text/x-python",
   "name": "python",
   "nbconvert_exporter": "python",
   "pygments_lexer": "ipython3",
   "version": "3.7.12"
  }
 },
 "nbformat": 4,
 "nbformat_minor": 5
}
