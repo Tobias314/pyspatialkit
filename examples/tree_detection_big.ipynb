{
 "cells": [
  {
   "cell_type": "code",
   "execution_count": 1,
   "id": "63c8f1ff-adb6-4ff4-91b5-ad36acd8b999",
   "metadata": {},
   "outputs": [],
   "source": [
    "%load_ext autoreload\n",
    "%autoreload 2\n",
    "%matplotlib widget"
   ]
  },
  {
   "cell_type": "code",
   "execution_count": 2,
   "id": "1ff03489-fc96-49f9-8139-421294cbdb02",
   "metadata": {},
   "outputs": [],
   "source": [
    "from pathlib import Path\n",
    "from glob import glob\n",
    "from tqdm.auto import tqdm\n",
    "import numpy as np\n",
    "from scipy.spatial import KDTree\n",
    "from matplotlib import pyplot as plt\n",
    "import matplotlib\n",
    "import tiledb\n",
    "from tqdm.auto import tqdm\n",
    "import geopandas as gpd"
   ]
  },
  {
   "cell_type": "code",
   "execution_count": 3,
   "id": "4502c76d-94c1-4d1a-89e3-8e10b56d3c29",
   "metadata": {},
   "outputs": [
    {
     "name": "stdout",
     "output_type": "stream",
     "text": [
      "[Warning] Since Open3D 0.15, installing Open3D via conda is deprecated. Please re-install Open3D via: `pip install open3d -U`.\n",
      "Jupyter environment detected. Enabling Open3D WebVisualizer.\n",
      "[Open3D INFO] WebRTC GUI backend enabled.\n",
      "[Open3D INFO] WebRTCWindowSystem: HTTP handshake server disabled.\n"
     ]
    }
   ],
   "source": [
    "from pyspatialkit.storage.geostorage import GeoStorage\n",
    "from pyspatialkit.dataobjects.geoshape import GeoShape\n",
    "from pyspatialkit.dataobjects.georaster import GeoRaster\n",
    "from pyspatialkit.dataobjects.geopointcloud import GeoPointCloud\n",
    "from pyspatialkit.spacedescriptors.georect import GeoRect\n",
    "from pyspatialkit.crs.geocrs import GeoCrs\n",
    "from pyspatialkit.spacedescriptors.geobox2d import GeoBox2d\n",
    "from pyspatialkit.visualization.cesium.backend.server import start_server"
   ]
  },
  {
   "cell_type": "code",
   "execution_count": 4,
   "id": "5a62454f-a889-4ccf-abae-29870d4382c1",
   "metadata": {},
   "outputs": [],
   "source": [
    "DATA_PATH = Path('/hpi/fs00/home/tobias.pietz/pyspatialkit/data/')\n",
    "TMP_DATA_PATH = Path('/tmp/pyspatialkit/data/')\n",
    "GEOSTORAGE_PATH = TMP_DATA_PATH / 'geostore/'\n",
    "CRS = GeoCrs.from_epsg(25832)\n",
    "AOI = GeoShape.from_shapefile(DATA_PATH / 'aoi.shp').to_crs(CRS)\n",
    "AOI_BOUNDS = AOI.bounds"
   ]
  },
  {
   "cell_type": "code",
   "execution_count": 6,
   "id": "5c7e315e-b492-4d0e-87c4-79853206e4b5",
   "metadata": {},
   "outputs": [
    {
     "name": "stdout",
     "output_type": "stream",
     "text": [
      "extent:[ 71271.3483359   43257.17673566 120000.        ]\n",
      "extent:[ 71271.3483359   43257.17673566 120000.        ]\n"
     ]
    }
   ],
   "source": [
    "storage = GeoStorage(GEOSTORAGE_PATH)"
   ]
  },
  {
   "cell_type": "code",
   "execution_count": 17,
   "id": "e0921ca4-ca05-461d-b537-349ed8fe715e",
   "metadata": {},
   "outputs": [
    {
     "data": {
      "text/plain": [
       "{'rgbi': <pyspatialkit.storage.raster.georasterlayer.GeoRasterLayer at 0x7f4f0465c250>,\n",
       " 'dom': <pyspatialkit.storage.pointcloud.geopointcloudlayer.GeoPointCloudLayer at 0x7f4f3c6d0750>,\n",
       " 'dgm': <pyspatialkit.storage.pointcloud.geopointcloudlayer.GeoPointCloudLayer at 0x7f4f04541e50>}"
      ]
     },
     "execution_count": 17,
     "metadata": {},
     "output_type": "execute_result"
    }
   ],
   "source": [
    "storage.layers"
   ]
  },
  {
   "cell_type": "code",
   "execution_count": 8,
   "id": "68487219-99a2-4567-b9d0-6ad2fdca551d",
   "metadata": {},
   "outputs": [],
   "source": [
    "rgbi_layer = storage.get_layer('rgbi')\n",
    "dom_layer = storage.get_layer('dom')\n",
    "dgm_layer = storage.get_layer('dgm')"
   ]
  },
  {
   "cell_type": "code",
   "execution_count": 12,
   "id": "eec7d3a4-3c78-422e-912d-2e5b3ff47bc7",
   "metadata": {},
   "outputs": [],
   "source": [
    "test_bounds = (722830.9, 5747402.9, 723030.6, 5747608.7)\n",
    "test_box = GeoBox2d.from_bounds(test_bounds, crs=CRS)\n",
    "test_rect = test_box.to_georect()"
   ]
  },
  {
   "cell_type": "code",
   "execution_count": 13,
   "id": "22889a68-b815-4b3c-8284-22abe64838f1",
   "metadata": {},
   "outputs": [],
   "source": [
    "img = rgbi_layer.get_data(test_rect)"
   ]
  },
  {
   "cell_type": "code",
   "execution_count": 16,
   "id": "c6aab7d6-86e7-4de6-8362-f3ac586385a7",
   "metadata": {},
   "outputs": [
    {
     "name": "stdout",
     "output_type": "stream",
     "text": [
      "STARTING SERVER\n"
     ]
    },
    {
     "ename": "RuntimeError",
     "evalue": "Directory '/workspaces/pyspatialkit/frontend/spatialkitcesium/public' does not exist",
     "output_type": "error",
     "traceback": [
      "\u001b[0;31m---------------------------------------------------------------------------\u001b[0m",
      "\u001b[0;31mRuntimeError\u001b[0m                              Traceback (most recent call last)",
      "\u001b[0;32m/tmp/ipykernel_3258883/1243273520.py\u001b[0m in \u001b[0;36m<module>\u001b[0;34m\u001b[0m\n\u001b[0;32m----> 1\u001b[0;31m \u001b[0mstart_server\u001b[0m\u001b[0;34m(\u001b[0m\u001b[0mstorage\u001b[0m\u001b[0;34m)\u001b[0m\u001b[0;34m\u001b[0m\u001b[0;34m\u001b[0m\u001b[0m\n\u001b[0m",
      "\u001b[0;32m~/pyspatialkit/pyspatialkit/pyspatialkit/visualization/cesium/backend/server.py\u001b[0m in \u001b[0;36mstart_server\u001b[0;34m(geostorage)\u001b[0m\n\u001b[1;32m     60\u001b[0m     \u001b[0mapp\u001b[0m\u001b[0;34m.\u001b[0m\u001b[0minclude_router\u001b[0m\u001b[0;34m(\u001b[0m\u001b[0mraster_router\u001b[0m\u001b[0;34m)\u001b[0m\u001b[0;34m\u001b[0m\u001b[0;34m\u001b[0m\u001b[0m\n\u001b[1;32m     61\u001b[0m     \u001b[0mapp\u001b[0m\u001b[0;34m.\u001b[0m\u001b[0minclude_router\u001b[0m\u001b[0;34m(\u001b[0m\u001b[0mpoint_cloud_router\u001b[0m\u001b[0;34m)\u001b[0m\u001b[0;34m\u001b[0m\u001b[0;34m\u001b[0m\u001b[0m\n\u001b[0;32m---> 62\u001b[0;31m     \u001b[0mapp\u001b[0m\u001b[0;34m.\u001b[0m\u001b[0mmount\u001b[0m\u001b[0;34m(\u001b[0m\u001b[0;34m\"/static\"\u001b[0m\u001b[0;34m,\u001b[0m \u001b[0mStaticFiles\u001b[0m\u001b[0;34m(\u001b[0m\u001b[0mdirectory\u001b[0m\u001b[0;34m=\u001b[0m\u001b[0mfrontend_path\u001b[0m\u001b[0;34m)\u001b[0m\u001b[0;34m,\u001b[0m \u001b[0mname\u001b[0m\u001b[0;34m=\u001b[0m\u001b[0;34m\"static\"\u001b[0m\u001b[0;34m)\u001b[0m\u001b[0;34m\u001b[0m\u001b[0;34m\u001b[0m\u001b[0m\n\u001b[0m\u001b[1;32m     63\u001b[0m     \u001b[0mapp\u001b[0m\u001b[0;34m.\u001b[0m\u001b[0mmount\u001b[0m\u001b[0;34m(\u001b[0m\u001b[0;34m\"/Widgets\"\u001b[0m\u001b[0;34m,\u001b[0m \u001b[0mStaticFiles\u001b[0m\u001b[0;34m(\u001b[0m\u001b[0mdirectory\u001b[0m\u001b[0;34m=\u001b[0m\u001b[0mfrontend_path\u001b[0m\u001b[0;34m/\u001b[0m\u001b[0;34m\"Widgets\"\u001b[0m\u001b[0;34m)\u001b[0m\u001b[0;34m,\u001b[0m \u001b[0mname\u001b[0m\u001b[0;34m=\u001b[0m\u001b[0;34m\"static\"\u001b[0m\u001b[0;34m)\u001b[0m\u001b[0;34m\u001b[0m\u001b[0;34m\u001b[0m\u001b[0m\n\u001b[1;32m     64\u001b[0m     \u001b[0mmy_middleware\u001b[0m \u001b[0;34m=\u001b[0m \u001b[0mLowerCaseMiddleware\u001b[0m\u001b[0;34m(\u001b[0m\u001b[0;34m)\u001b[0m\u001b[0;34m\u001b[0m\u001b[0;34m\u001b[0m\u001b[0m\n",
      "\u001b[0;32m~/miniconda3/envs/pyspatialkit/lib/python3.7/site-packages/starlette/staticfiles.py\u001b[0m in \u001b[0;36m__init__\u001b[0;34m(self, directory, packages, html, check_dir)\u001b[0m\n\u001b[1;32m     55\u001b[0m         \u001b[0mself\u001b[0m\u001b[0;34m.\u001b[0m\u001b[0mconfig_checked\u001b[0m \u001b[0;34m=\u001b[0m \u001b[0;32mFalse\u001b[0m\u001b[0;34m\u001b[0m\u001b[0;34m\u001b[0m\u001b[0m\n\u001b[1;32m     56\u001b[0m         \u001b[0;32mif\u001b[0m \u001b[0mcheck_dir\u001b[0m \u001b[0;32mand\u001b[0m \u001b[0mdirectory\u001b[0m \u001b[0;32mis\u001b[0m \u001b[0;32mnot\u001b[0m \u001b[0;32mNone\u001b[0m \u001b[0;32mand\u001b[0m \u001b[0;32mnot\u001b[0m \u001b[0mos\u001b[0m\u001b[0;34m.\u001b[0m\u001b[0mpath\u001b[0m\u001b[0;34m.\u001b[0m\u001b[0misdir\u001b[0m\u001b[0;34m(\u001b[0m\u001b[0mdirectory\u001b[0m\u001b[0;34m)\u001b[0m\u001b[0;34m:\u001b[0m\u001b[0;34m\u001b[0m\u001b[0;34m\u001b[0m\u001b[0m\n\u001b[0;32m---> 57\u001b[0;31m             \u001b[0;32mraise\u001b[0m \u001b[0mRuntimeError\u001b[0m\u001b[0;34m(\u001b[0m\u001b[0;34mf\"Directory '{directory}' does not exist\"\u001b[0m\u001b[0;34m)\u001b[0m\u001b[0;34m\u001b[0m\u001b[0;34m\u001b[0m\u001b[0m\n\u001b[0m\u001b[1;32m     58\u001b[0m \u001b[0;34m\u001b[0m\u001b[0m\n\u001b[1;32m     59\u001b[0m     def get_directories(\n",
      "\u001b[0;31mRuntimeError\u001b[0m: Directory '/workspaces/pyspatialkit/frontend/spatialkitcesium/public' does not exist"
     ]
    }
   ],
   "source": [
    "start_server(storage)"
   ]
  }
 ],
 "metadata": {
  "kernelspec": {
   "display_name": "Python 3 (ipykernel)",
   "language": "python",
   "name": "python3"
  },
  "language_info": {
   "codemirror_mode": {
    "name": "ipython",
    "version": 3
   },
   "file_extension": ".py",
   "mimetype": "text/x-python",
   "name": "python",
   "nbconvert_exporter": "python",
   "pygments_lexer": "ipython3",
   "version": "3.7.12"
  }
 },
 "nbformat": 4,
 "nbformat_minor": 5
}
