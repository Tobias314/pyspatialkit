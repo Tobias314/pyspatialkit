{
 "cells": [
  {
   "cell_type": "code",
   "execution_count": 1,
   "id": "9a509726-d0da-4e1b-bcb7-c35f985e111d",
   "metadata": {},
   "outputs": [],
   "source": [
    "%load_ext autoreload\n",
    "%autoreload 2\n",
    "%matplotlib widget"
   ]
  },
  {
   "cell_type": "code",
   "execution_count": 5,
   "id": "0ad41313-6afa-4f8b-94fd-9b12c879091b",
   "metadata": {},
   "outputs": [],
   "source": [
    "from pathlib import Path\n",
    "import geopandas as gpd"
   ]
  },
  {
   "cell_type": "code",
   "execution_count": 7,
   "id": "f751fac9-7120-491d-b9e2-39d52b8628d6",
   "metadata": {},
   "outputs": [],
   "source": [
    "from pyspatialkit.dataobjects.geoshape import GeoShape\n",
    "from pyspatialkit.dataobjects.georaster import GeoRaster\n",
    "from pyspatialkit.globals import DEFAULT_CRS, get_default_crs\n",
    "from pyspatialkit.storage.geostorage import GeoStorage\n",
    "from pyspatialkit.tiling.geoboxtiler2d import GeoBoxTiler2d\n",
    "from pyspatialkit.crs.geocrs import GeoCrs"
   ]
  },
  {
   "cell_type": "code",
   "execution_count": 8,
   "id": "9084efe8-368d-4fe1-9aad-4ba20d336471",
   "metadata": {},
   "outputs": [],
   "source": [
    "DATA_PATH = Path('/hpi/fs00/home/tobias.pietz/pyspatialkit/data/')\n",
    "TMP_DATA_PATH = Path('/tmp/pyspatialkit/data/')\n",
    "GEOSTORAGE_PATH = TMP_DATA_PATH / 'geostore/'\n",
    "CRS = GeoCrs.from_epsg(25832)\n",
    "AOI = GeoShape.from_shapefile(DATA_PATH / 'aoi.shp').to_crs(CRS)"
   ]
  },
  {
   "cell_type": "code",
   "execution_count": 13,
   "id": "42634874-7955-4009-8355-c96fc82d0dc9",
   "metadata": {},
   "outputs": [],
   "source": [
    "tiler = GeoBoxTiler2d(aoi=AOI, raster_size=(10000,10000), reference_crs=CRS)"
   ]
  },
  {
   "cell_type": "code",
   "execution_count": 14,
   "id": "2eae9473-0f9e-43d3-9717-23109b442dcc",
   "metadata": {},
   "outputs": [],
   "source": [
    "tiles = tiler.to_geopandas()"
   ]
  },
  {
   "cell_type": "code",
   "execution_count": 15,
   "id": "7fa04c4f-bb56-4c27-8daf-5fccc5e4b483",
   "metadata": {},
   "outputs": [],
   "source": [
    "tiles.to_file('tiles.shp')"
   ]
  },
  {
   "cell_type": "code",
   "execution_count": 19,
   "id": "7b8dc3f5-d77e-4a6b-a826-6bb4ae45d9ae",
   "metadata": {},
   "outputs": [],
   "source": [
    "AOI.to_geopandas().to_file('aoi.shp')"
   ]
  }
 ],
 "metadata": {
  "kernelspec": {
   "display_name": "Python 3 (ipykernel)",
   "language": "python",
   "name": "python3"
  },
  "language_info": {
   "codemirror_mode": {
    "name": "ipython",
    "version": 3
   },
   "file_extension": ".py",
   "mimetype": "text/x-python",
   "name": "python",
   "nbconvert_exporter": "python",
   "pygments_lexer": "ipython3",
   "version": "3.7.12"
  }
 },
 "nbformat": 4,
 "nbformat_minor": 5
}
