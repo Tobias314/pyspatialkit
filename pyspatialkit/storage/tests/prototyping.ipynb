{
 "cells": [
  {
   "cell_type": "code",
   "execution_count": 3,
   "metadata": {},
   "outputs": [],
   "source": [
    "from typing import Optional\n",
    "\n",
    "import pandas as pd\n",
    "\n",
    "from pyspatialkit.core.interfaces import BBoxSerializable"
   ]
  },
  {
   "cell_type": "code",
   "execution_count": null,
   "metadata": {},
   "outputs": [],
   "source": [
    "class SimpleBBoxData2d(BBoxSerializable):\n",
    "\n",
    "    def __init__(self, bbox: Tuple[float, float, float, float], data: int):\n",
    "        self.bbox = bbox\n",
    "        self.data = data\n",
    "\n",
    "    def to_bytes(self) -> bytes:\n",
    "        return np.array([self.data]).astype(int).tobytes()\n",
    "\n",
    "    @classmethod\n",
    "    def from_bytes(cls, data_bytes: bytes, bbox: Optional[np.ndarray]) -> Optional['BBoxSerializable']:\n",
    "        data = int(np.frombuffer(data_bytes, dtype=int, count=1)[0])\n",
    "        bbox = bbox\n",
    "        return cls(box=bbox, data=data)\n",
    "\n",
    "    def is_intersecting_bbox(self, bbox: np.ndarray) -> bool:\n",
    "        return (self.bbox[:2] <= bbox[2:] & self.bbox[2:] >= bbox[:2]).all()\n",
    "\n",
    "    def get_bounds(self)-> np.ndarray:\n",
    "        return self.bbox"
   ]
  }
 ],
 "metadata": {
  "kernelspec": {
   "display_name": "Python 3.8.13 ('env')",
   "language": "python",
   "name": "python3"
  },
  "language_info": {
   "codemirror_mode": {
    "name": "ipython",
    "version": 3
   },
   "file_extension": ".py",
   "mimetype": "text/x-python",
   "name": "python",
   "nbconvert_exporter": "python",
   "pygments_lexer": "ipython3",
   "version": "3.8.13"
  },
  "orig_nbformat": 4,
  "vscode": {
   "interpreter": {
    "hash": "06217459e5ebcd87f7dbc73abff955c789972eb225a59b85b696bf601b5ed8ce"
   }
  }
 },
 "nbformat": 4,
 "nbformat_minor": 2
}
