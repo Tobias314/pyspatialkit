{
 "cells": [
  {
   "cell_type": "code",
   "execution_count": 2,
   "metadata": {},
   "outputs": [],
   "source": [
    "%load_ext autoreload\n",
    "%autoreload 2\n",
    "import sys\n",
    "sys.path.append('../../')"
   ]
  },
  {
   "cell_type": "code",
   "execution_count": 3,
   "metadata": {},
   "outputs": [],
   "source": [
    "import numpy as np\n",
    "from pyspatialkit.datastructures.georaster import GeoRaster\n",
    "from pyspatialkit.spacedescriptors.georect import GeoRect\n",
    "from pyspatialkit.storage.raster.georasterlayer import GeoRasterLayer\n",
    "from pyspatialkit.crs.geocrs import NoneCRS"
   ]
  },
  {
   "cell_type": "code",
   "execution_count": 4,
   "metadata": {},
   "outputs": [],
   "source": [
    "raster_layer = GeoRasterLayer(directory_path='../testdata/rasterlayer/', num_bands=1, dtype=float, crs=NoneCRS(), bounds=[0,0,10000,10000])"
   ]
  },
  {
   "cell_type": "code",
   "execution_count": 9,
   "metadata": {},
   "outputs": [],
   "source": [
    "raster1 = GeoRaster(GeoRect((0,0), (1000,1000), crs=NoneCRS()), np.zeros((1000,1000)))\n",
    "raster2 = GeoRaster(GeoRect((750,100), (1750,1100), crs=NoneCRS()), np.ones((1000,1000)))"
   ]
  },
  {
   "cell_type": "code",
   "execution_count": 8,
   "metadata": {},
   "outputs": [],
   "source": [
    "raster_layer.writer_raster_data(raster2)"
   ]
  },
  {
   "cell_type": "code",
   "execution_count": 10,
   "metadata": {},
   "outputs": [
    {
     "name": "stderr",
     "output_type": "stream",
     "text": [
      "../../pyspatialkit/storage/raster/tiledbbackend.py:92: FutureWarning: Passing (type, 1) or '1type' as a synonym of type is deprecated; in a future version of numpy, it will be understood as (type, (1,)) / '(1,)type'.\n",
      "  res = res.view((self.dtype, self.num_bands))\n"
     ]
    }
   ],
   "source": [
    "res = raster_layer.get_raster_for_rect(raster1.georect)"
   ]
  },
  {
   "cell_type": "code",
   "execution_count": 11,
   "metadata": {},
   "outputs": [
    {
     "data": {
      "image/png": "[encoded data removed]",
      "text/plain": [
       "<Figure size 432x288 with 1 Axes>"
      ]
     },
     "metadata": {
      "needs_background": "light"
     },
     "output_type": "display_data"
    }
   ],
   "source": [
    "res.plot()"
   ]
  }
 ],
 "metadata": {
  "interpreter": {
   "hash": "06217459e5ebcd87f7dbc73abff955c789972eb225a59b85b696bf601b5ed8ce"
  },
  "kernelspec": {
   "display_name": "Python 3.7.12 64-bit ('env': conda)",
   "name": "python3"
  },
  "language_info": {
   "codemirror_mode": {
    "name": "ipython",
    "version": 3
   },
   "file_extension": ".py",
   "mimetype": "text/x-python",
   "name": "python",
   "nbconvert_exporter": "python",
   "pygments_lexer": "ipython3",
   "version": "3.7.12"
  },
  "orig_nbformat": 4
 },
 "nbformat": 4,
 "nbformat_minor": 2
}
