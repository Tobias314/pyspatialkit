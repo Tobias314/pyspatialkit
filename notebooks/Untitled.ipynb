{
 "cells": [
  {
   "cell_type": "code",
   "execution_count": 49,
   "id": "6dfba33a",
   "metadata": {},
   "outputs": [],
   "source": [
    "from pathlib import Path"
   ]
  },
  {
   "cell_type": "code",
   "execution_count": 50,
   "id": "522d9bd8",
   "metadata": {},
   "outputs": [],
   "source": [
    "import tiledb, numpy as np, tempfile"
   ]
  },
  {
   "cell_type": "code",
   "execution_count": 51,
   "id": "37d4cd08",
   "metadata": {},
   "outputs": [],
   "source": [
    "db_path = \"./test_tdb\""
   ]
  },
  {
   "cell_type": "code",
   "execution_count": 52,
   "id": "4c1d3b9b",
   "metadata": {},
   "outputs": [],
   "source": [
    "dim1 = tiledb.Dim(domain=(0,1000000), tile=100, dtype=np.uint64)\n",
    "dim2 = tiledb.Dim(domain=(0,1000000), tile=100, dtype=np.uint64)\n",
    "dom = tiledb.Domain(dim1, dim2)"
   ]
  },
  {
   "cell_type": "code",
   "execution_count": 53,
   "id": "3cc17e6a",
   "metadata": {},
   "outputs": [],
   "source": [
    "schema = tiledb.ArraySchema(domain=dom, attrs=(tiledb.Attr(name=\"a1\", dtype=np.int64),))"
   ]
  },
  {
   "cell_type": "code",
   "execution_count": 54,
   "id": "285a999c",
   "metadata": {},
   "outputs": [],
   "source": [
    "tiledb.DenseArray.create(db_path, schema)"
   ]
  },
  {
   "cell_type": "code",
   "execution_count": 61,
   "id": "92478582",
   "metadata": {},
   "outputs": [],
   "source": [
    "with tiledb.DenseArray(db_path, mode='w') as A:\n",
    "    A[100000, 100000:100010] = {\"a1\": 42 * np.ones((10))}\n",
    "    #A[1,1] = {'a1', np.ones((1,), dtype=np.int64)}"
   ]
  },
  {
   "cell_type": "code",
   "execution_count": 62,
   "id": "8de33835",
   "metadata": {},
   "outputs": [
    {
     "data": {
      "text/plain": [
       "array([42, 42, 42, 42, 42])"
      ]
     },
     "execution_count": 62,
     "metadata": {},
     "output_type": "execute_result"
    }
   ],
   "source": [
    "with tiledb.DenseArray(db_path, mode='r') as A:\n",
    "        tmp = A[1, 0:5][\"a1\"]\n",
    "tmp"
   ]
  },
  {
   "cell_type": "code",
   "execution_count": null,
   "id": "24cb1942",
   "metadata": {},
   "outputs": [],
   "source": []
  }
 ],
 "metadata": {
  "kernelspec": {
   "display_name": "Python 3",
   "language": "python",
   "name": "python3"
  },
  "language_info": {
   "codemirror_mode": {
    "name": "ipython",
    "version": 3
   },
   "file_extension": ".py",
   "mimetype": "text/x-python",
   "name": "python",
   "nbconvert_exporter": "python",
   "pygments_lexer": "ipython3",
   "version": "3.7.10"
  }
 },
 "nbformat": 4,
 "nbformat_minor": 5
}
