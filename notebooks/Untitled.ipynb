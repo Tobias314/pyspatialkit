{
 "cells": [
  {
   "cell_type": "code",
   "execution_count": 9,
   "id": "6dfba33a",
   "metadata": {},
   "outputs": [],
   "source": [
    "from pathlib import Path\n",
    "import shutil"
   ]
  },
  {
   "cell_type": "code",
   "execution_count": 2,
   "id": "522d9bd8",
   "metadata": {},
   "outputs": [],
   "source": [
    "import tiledb, numpy as np, tempfile"
   ]
  },
  {
   "cell_type": "code",
   "execution_count": 10,
   "id": "37d4cd08",
   "metadata": {},
   "outputs": [],
   "source": [
    "db_path = \"./test_tdb\"\n",
    "shutil.rmtree(db_path)"
   ]
  },
  {
   "cell_type": "code",
   "execution_count": 11,
   "id": "4c1d3b9b",
   "metadata": {},
   "outputs": [],
   "source": [
    "dim1 = tiledb.Dim(domain=(0,1000000), tile=100, dtype=np.uint64)\n",
    "dim2 = tiledb.Dim(domain=(0,1000000), tile=100, dtype=np.uint64)\n",
    "dom = tiledb.Domain(dim1, dim2)"
   ]
  },
  {
   "cell_type": "code",
   "execution_count": 70,
   "metadata": {},
   "outputs": [],
   "source": [
    "t = np.array([1,2,3,4,5,6,7,8,9,10,11,12,13,14,15,16], dtype=np.int32)"
   ]
  },
  {
   "cell_type": "code",
   "execution_count": 88,
   "metadata": {},
   "outputs": [
    {
     "data": {
      "text/plain": [
       "array([[ 1,  2,  3,  4],\n",
       "       [ 5,  6,  7,  8],\n",
       "       [ 9, 10, 11, 12],\n",
       "       [13, 14, 15, 16]], dtype=int32)"
      ]
     },
     "execution_count": 88,
     "metadata": {},
     "output_type": "execute_result"
    }
   ],
   "source": [
    "img = t.reshape((4,4))\n",
    "img"
   ]
  },
  {
   "cell_type": "code",
   "execution_count": 94,
   "metadata": {},
   "outputs": [
    {
     "data": {
      "text/plain": [
       "(2, 4)"
      ]
     },
     "execution_count": 94,
     "metadata": {},
     "output_type": "execute_result"
    }
   ],
   "source": [
    "img[::2,:].shape"
   ]
  },
  {
   "cell_type": "code",
   "execution_count": 96,
   "metadata": {},
   "outputs": [
    {
     "data": {
      "text/plain": [
       "array([[ 3.5,  5.5],\n",
       "       [11.5, 13.5]])"
      ]
     },
     "execution_count": 96,
     "metadata": {},
     "output_type": "execute_result"
    }
   ],
   "source": [
    "np.stack([img[::2,::2], img[1::2,::2], img[::2,1::2], img[1::2,1::2]], axis=2).mean(axis=2)"
   ]
  },
  {
   "cell_type": "code",
   "execution_count": 91,
   "metadata": {},
   "outputs": [
    {
     "data": {
      "text/plain": [
       "array([1., 1., 1., 1., 1., 1., 1., 1., 1., 1.])"
      ]
     },
     "execution_count": 91,
     "metadata": {},
     "output_type": "execute_result"
    }
   ],
   "source": [
    "f = np.ones(10)\n",
    "np.ceil(f)"
   ]
  },
  {
   "cell_type": "code",
   "execution_count": 69,
   "metadata": {},
   "outputs": [
    {
     "ename": "UFuncTypeError",
     "evalue": "ufunc 'add' did not contain a loop with signature matching types (dtype([('f0', '<i4'), ('f1', '<i4'), ('f2', '<i4')]), dtype([('f0', '<i4'), ('f1', '<i4'), ('f2', '<i4')])) -> dtype([('f0', '<i4'), ('f1', '<i4'), ('f2', '<i4')])",
     "output_type": "error",
     "traceback": [
      "\u001b[0;31m---------------------------------------------------------------------------\u001b[0m",
      "\u001b[0;31mUFuncTypeError\u001b[0m                            Traceback (most recent call last)",
      "\u001b[0;32m/tmp/ipykernel_10260/1971168497.py\u001b[0m in \u001b[0;36m<module>\u001b[0;34m\u001b[0m\n\u001b[0;32m----> 1\u001b[0;31m \u001b[0mt\u001b[0m\u001b[0;34m.\u001b[0m\u001b[0mview\u001b[0m\u001b[0;34m(\u001b[0m\u001b[0mnp\u001b[0m\u001b[0;34m.\u001b[0m\u001b[0mdtype\u001b[0m\u001b[0;34m(\u001b[0m\u001b[0;34m'i4,i4,i4'\u001b[0m\u001b[0;34m)\u001b[0m\u001b[0;34m)\u001b[0m \u001b[0;34m+\u001b[0m \u001b[0mt2\u001b[0m\u001b[0;34m.\u001b[0m\u001b[0mview\u001b[0m\u001b[0;34m(\u001b[0m\u001b[0mnp\u001b[0m\u001b[0;34m.\u001b[0m\u001b[0mdtype\u001b[0m\u001b[0;34m(\u001b[0m\u001b[0;34m'i4,i4,i4'\u001b[0m\u001b[0;34m)\u001b[0m\u001b[0;34m)\u001b[0m\u001b[0;34m\u001b[0m\u001b[0;34m\u001b[0m\u001b[0m\n\u001b[0m",
      "\u001b[0;31mUFuncTypeError\u001b[0m: ufunc 'add' did not contain a loop with signature matching types (dtype([('f0', '<i4'), ('f1', '<i4'), ('f2', '<i4')]), dtype([('f0', '<i4'), ('f1', '<i4'), ('f2', '<i4')])) -> dtype([('f0', '<i4'), ('f1', '<i4'), ('f2', '<i4')])"
     ]
    }
   ],
   "source": [
    "t.view(np.dtype('i4,i4,i4')) + t2.view(np.dtype('i4,i4,i4'))"
   ]
  },
  {
   "cell_type": "code",
   "execution_count": 65,
   "id": "3cc17e6a",
   "metadata": {},
   "outputs": [],
   "source": [
    "schema = tiledb.ArraySchema(domain=dom, attrs=[(tiledb.Attr(name=\"a1\", dtype=np.int64)),])"
   ]
  },
  {
   "cell_type": "code",
   "execution_count": 13,
   "id": "285a999c",
   "metadata": {},
   "outputs": [],
   "source": [
    "ar = tiledb.DenseArray.create(db_path, schema)"
   ]
  },
  {
   "cell_type": "code",
   "execution_count": 15,
   "metadata": {},
   "outputs": [
    {
     "data": {
      "text/plain": [
       "NoneType"
      ]
     },
     "execution_count": 15,
     "metadata": {},
     "output_type": "execute_result"
    }
   ],
   "source": [
    "type(ar)"
   ]
  },
  {
   "cell_type": "code",
   "execution_count": 50,
   "id": "92478582",
   "metadata": {},
   "outputs": [
    {
     "name": "stdout",
     "output_type": "stream",
     "text": [
      "[[1 1 1 1 1 4 1 1 1 1]\n",
      " [1 1 1 1 1 4 1 1 1 1]\n",
      " [1 1 1 1 1 4 1 1 1 1]\n",
      " [1 1 1 1 1 4 1 1 1 1]\n",
      " [1 1 1 1 1 4 1 1 1 1]\n",
      " [1 1 1 1 1 4 1 1 1 1]\n",
      " [1 1 1 1 1 4 1 1 1 1]\n",
      " [1 1 1 1 1 4 1 1 1 1]\n",
      " [1 1 1 1 1 4 1 1 1 1]\n",
      " [1 1 1 1 1 4 1 1 1 1]]\n"
     ]
    }
   ],
   "source": [
    "for i in range(1):\n",
    "    with tiledb.DenseArray(db_path, mode='r') as A0:\n",
    "        with tiledb.DenseArray(db_path, mode='w') as A:\n",
    "            t = np.ones((10,10))\n",
    "            t[0:10, 5] = 5\n",
    "            A[100000:100010, 100000:100010] = {\"a1\": t}\n",
    "        print(A0[100000:100010, 100000:100010][\"a1\"])\n",
    "        #A[1,1] = {'a1', np.ones((1,), dtype=np.int64)}"
   ]
  },
  {
   "cell_type": "code",
   "execution_count": 51,
   "id": "8de33835",
   "metadata": {},
   "outputs": [
    {
     "data": {
      "text/plain": [
       "array([5, 5, 5, 5, 5, 5, 5, 5, 5, 5])"
      ]
     },
     "execution_count": 51,
     "metadata": {},
     "output_type": "execute_result"
    }
   ],
   "source": [
    "\n",
    "with tiledb.DenseArray(db_path, mode='r') as A:\n",
    "        for i in range(100):\n",
    "                tmp = A[100000:100010, 100000:100010][\"a1\"]\n",
    "tmp[0:10, 5]"
   ]
  },
  {
   "cell_type": "code",
   "execution_count": null,
   "metadata": {},
   "outputs": [],
   "source": []
  }
 ],
 "metadata": {
  "interpreter": {
   "hash": "06217459e5ebcd87f7dbc73abff955c789972eb225a59b85b696bf601b5ed8ce"
  },
  "kernelspec": {
   "display_name": "Python 3.7.11 64-bit ('env': conda)",
   "name": "python3"
  },
  "language_info": {
   "codemirror_mode": {
    "name": "ipython",
    "version": 3
   },
   "file_extension": ".py",
   "mimetype": "text/x-python",
   "name": "python",
   "nbconvert_exporter": "python",
   "pygments_lexer": "ipython3",
   "version": "3.7.11"
  }
 },
 "nbformat": 4,
 "nbformat_minor": 5
}
