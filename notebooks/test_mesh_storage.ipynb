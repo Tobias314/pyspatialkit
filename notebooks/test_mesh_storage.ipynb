{
 "cells": [
  {
   "cell_type": "code",
   "execution_count": 1,
   "metadata": {},
   "outputs": [],
   "source": [
    "%load_ext autoreload\n",
    "%autoreload 2\n",
    "import sys\n",
    "sys.path.append('../')"
   ]
  },
  {
   "cell_type": "code",
   "execution_count": 2,
   "metadata": {},
   "outputs": [],
   "source": [
    "import numpy as np\n",
    "import pandas as pd\n",
    "import logging\n",
    "from shapely.geometry import Polygon"
   ]
  },
  {
   "cell_type": "code",
   "execution_count": 8,
   "metadata": {},
   "outputs": [],
   "source": [
    "from testing.utils import get_tmp_path, close_all_files_delete_dir\n",
    "from pyspatialkit.spacedescriptors.geobox3d import GeoBox3d\n",
    "from pyspatialkit.crs.geocrs import NoneCRS\n",
    "from pyspatialkit.storage.mesh.geomeshlayer import GeoMeshLayer\n",
    "from pyspatialkit.dataobjects.geomesh import GeoMesh"
   ]
  },
  {
   "cell_type": "code",
   "execution_count": 9,
   "metadata": {},
   "outputs": [],
   "source": [
    "bounds = [0,0,0, 20,20,20]\n",
    "tile_size = 10\n",
    "crs = NoneCRS()"
   ]
  },
  {
   "cell_type": "code",
   "execution_count": 14,
   "metadata": {},
   "outputs": [],
   "source": [
    "mesh_layer = GeoMeshLayer(directory_path=get_tmp_path() / \"mesh_layer\", crs=crs, bounds=bounds, tile_size=tile_size)"
   ]
  }
 ],
 "metadata": {
  "interpreter": {
   "hash": "06217459e5ebcd87f7dbc73abff955c789972eb225a59b85b696bf601b5ed8ce"
  },
  "kernelspec": {
   "display_name": "Python 3.7.12 ('env')",
   "language": "python",
   "name": "python3"
  },
  "language_info": {
   "codemirror_mode": {
    "name": "ipython",
    "version": 3
   },
   "file_extension": ".py",
   "mimetype": "text/x-python",
   "name": "python",
   "nbconvert_exporter": "python",
   "pygments_lexer": "ipython3",
   "version": "3.7.12"
  },
  "orig_nbformat": 4
 },
 "nbformat": 4,
 "nbformat_minor": 2
}
