{
 "cells": [
  {
   "cell_type": "code",
   "execution_count": 156,
   "metadata": {},
   "outputs": [
    {
     "name": "stdout",
     "output_type": "stream",
     "text": [
      "The autoreload extension is already loaded. To reload it, use:\n",
      "  %reload_ext autoreload\n"
     ]
    }
   ],
   "source": [
    "%load_ext autoreload\n",
    "%autoreload 2\n",
    "import sys\n",
    "sys.path.append('../')"
   ]
  },
  {
   "cell_type": "code",
   "execution_count": 2,
   "metadata": {},
   "outputs": [],
   "source": [
    "import numpy as np\n",
    "import pandas as pd\n",
    "import logging\n",
    "from shapely.geometry import Polygon"
   ]
  },
  {
   "cell_type": "code",
   "execution_count": 158,
   "metadata": {},
   "outputs": [],
   "source": [
    "from testing.utils import get_tmp_path, close_all_files_delete_dir\n",
    "from pyspatialkit.spacedescriptors.geobox3d import GeoBox3d\n",
    "from pyspatialkit.crs.geocrs import NoneCRS\n",
    "from pyspatialkit.storage.mesh.geomeshlayer import GeoMeshLayer\n",
    "from pyspatialkit.dataobjects.geomesh import GeoMesh"
   ]
  },
  {
   "cell_type": "code",
   "execution_count": 159,
   "metadata": {},
   "outputs": [],
   "source": [
    "bounds = [0,0,0, 20,20,20]\n",
    "tile_size = 10\n",
    "crs = NoneCRS()"
   ]
  },
  {
   "cell_type": "code",
   "execution_count": 228,
   "metadata": {},
   "outputs": [],
   "source": [
    "mesh_layer = GeoMeshLayer(directory_path=get_tmp_path() / \"mesh_layer\", crs=crs, bounds=bounds, tile_size=tile_size)"
   ]
  },
  {
   "cell_type": "code",
   "execution_count": 223,
   "metadata": {},
   "outputs": [],
   "source": [
    "vertices = np.array([[1,1,1], [15,1,1], [8,5,1]])\n",
    "faces = np.array([[0,1,2]])\n",
    "mesh = GeoMesh.from_vertices_faces(vertices, faces, crs=crs)"
   ]
  },
  {
   "cell_type": "code",
   "execution_count": 224,
   "metadata": {},
   "outputs": [],
   "source": [
    "mesh_layer.write_data(mesh)"
   ]
  },
  {
   "cell_type": "code",
   "execution_count": 229,
   "metadata": {},
   "outputs": [
    {
     "data": {
      "text/plain": [
       "[<pyspatialkit.dataobjects.geomesh.GeoMesh at 0x7f0b644c0810>]"
      ]
     },
     "execution_count": 229,
     "metadata": {},
     "output_type": "execute_result"
    }
   ],
   "source": [
    "aoi = GeoBox3d([10,0,0], [20,10,10], crs=crs)\n",
    "res = mesh_layer.get_data(aoi)\n",
    "res"
   ]
  },
  {
   "cell_type": "code",
   "execution_count": 145,
   "metadata": {},
   "outputs": [],
   "source": [
    "aoi = GeoBox3d([0,0,0], [20,10,10], crs=crs)\n",
    "res = mesh_layer.get_data(aoi)"
   ]
  },
  {
   "cell_type": "code",
   "execution_count": 190,
   "metadata": {},
   "outputs": [],
   "source": [
    "aoi = GeoBox3d([0,0,0], [9,9,9], crs=crs)\n",
    "res = mesh_layer.get_data(aoi)"
   ]
  },
  {
   "cell_type": "code",
   "execution_count": 188,
   "metadata": {},
   "outputs": [],
   "source": [
    "aoi = GeoBox3d([11,11,11], [19,19,19], crs=crs)\n",
    "res = mesh_layer.get_data(aoi)"
   ]
  },
  {
   "cell_type": "code",
   "execution_count": 153,
   "metadata": {},
   "outputs": [],
   "source": [
    "mesh_layer.delete_permanently()"
   ]
  },
  {
   "cell_type": "code",
   "execution_count": null,
   "metadata": {},
   "outputs": [],
   "source": []
  },
  {
   "cell_type": "code",
   "execution_count": 3,
   "metadata": {},
   "outputs": [],
   "source": [
    "tmp = np.array([[0,1], [0.3,0.3], [1,1]])"
   ]
  },
  {
   "cell_type": "code",
   "execution_count": 7,
   "metadata": {},
   "outputs": [
    {
     "data": {
      "text/plain": [
       "array([[0.        , 1.        ],\n",
       "       [0.70710678, 0.70710678],\n",
       "       [0.70710678, 0.70710678]])"
      ]
     },
     "execution_count": 7,
     "metadata": {},
     "output_type": "execute_result"
    }
   ],
   "source": [
    "tmp / np.linalg.norm(tmp, axis=1)[:, np.newaxis]"
   ]
  },
  {
   "cell_type": "code",
   "execution_count": 10,
   "metadata": {},
   "outputs": [
    {
     "data": {
      "text/plain": [
       "b''"
      ]
     },
     "execution_count": 10,
     "metadata": {},
     "output_type": "execute_result"
    }
   ],
   "source": [
    "bytes()"
   ]
  }
 ],
 "metadata": {
  "interpreter": {
   "hash": "06217459e5ebcd87f7dbc73abff955c789972eb225a59b85b696bf601b5ed8ce"
  },
  "kernelspec": {
   "display_name": "Python 3 (ipykernel)",
   "language": "python",
   "name": "python3"
  },
  "language_info": {
   "codemirror_mode": {
    "name": "ipython",
    "version": 3
   },
   "file_extension": ".py",
   "mimetype": "text/x-python",
   "name": "python",
   "nbconvert_exporter": "python",
   "pygments_lexer": "ipython3",
   "version": "3.7.12"
  }
 },
 "nbformat": 4,
 "nbformat_minor": 4
}
