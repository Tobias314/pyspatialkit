{
 "cells": [
  {
   "cell_type": "code",
   "execution_count": 1,
   "metadata": {},
   "outputs": [],
   "source": [
    "%load_ext autoreload\n",
    "%autoreload 2\n",
    "import sys\n",
    "sys.path.append('../')"
   ]
  },
  {
   "cell_type": "code",
   "execution_count": 2,
   "metadata": {},
   "outputs": [],
   "source": [
    "import numpy as np\n",
    "from shapely.geometry import Polygon\n",
    "from matplotlib import pyplot as plt\n",
    "import random"
   ]
  },
  {
   "cell_type": "markdown",
   "metadata": {},
   "source": [
    "# Rasterize image"
   ]
  },
  {
   "cell_type": "code",
   "execution_count": 3,
   "metadata": {},
   "outputs": [],
   "source": [
    "dims = np.array([1000, 1000])\n",
    "img = np.zeros(dims)"
   ]
  },
  {
   "cell_type": "code",
   "execution_count": 4,
   "metadata": {},
   "outputs": [],
   "source": [
    "def gen_square(lower, upper, dims):\n",
    "    return Polygon([dims * lower, [dims[0]*lower, dims[1]*upper], dims * upper, [dims[0]*upper, dims[1]*lower]])"
   ]
  },
  {
   "cell_type": "code",
   "execution_count": 5,
   "metadata": {},
   "outputs": [],
   "source": [
    "import skimage.draw as imdraw\n",
    "from rasterio.features import rasterize"
   ]
  },
  {
   "cell_type": "code",
   "execution_count": 6,
   "metadata": {},
   "outputs": [],
   "source": [
    "for i in range(100):\n",
    "    poly = gen_square(random.uniform(0.1, 0.49), random.uniform(0.5, 0.66), dims)\n",
    "    rr, cc = imdraw.polygon(*poly.boundary.coords.xy)\n",
    "    img = np.zeros(dims)\n",
    "    img[rr, cc] = 1"
   ]
  },
  {
   "cell_type": "code",
   "execution_count": 7,
   "metadata": {},
   "outputs": [],
   "source": [
    "for i in range(100):\n",
    "    poly = gen_square(random.uniform(0.1, 0.49), random.uniform(0.5, 0.66), dims)\n",
    "    mask = rasterize([poly], img.shape)\n",
    "    img = np.zeros(dims)\n",
    "    img[mask.astype(bool)] = 1"
   ]
  },
  {
   "cell_type": "code",
   "execution_count": 8,
   "metadata": {},
   "outputs": [
    {
     "data": {
      "text/plain": [
       "<matplotlib.image.AxesImage at 0x7efeb9681dd0>"
      ]
     },
     "execution_count": 8,
     "metadata": {},
     "output_type": "execute_result"
    },
    {
     "data": {
      "image/png": "[encoded data removed]",
      "text/plain": [
       "<Figure size 432x288 with 1 Axes>"
      ]
     },
     "metadata": {
      "needs_background": "light"
     },
     "output_type": "display_data"
    }
   ],
   "source": [
    "plt.imshow(img)"
   ]
  },
  {
   "cell_type": "markdown",
   "metadata": {},
   "source": [
    "# Geometry projection"
   ]
  },
  {
   "cell_type": "code",
   "execution_count": 9,
   "metadata": {},
   "outputs": [],
   "source": [
    "import geopandas as gpd\n",
    "from geopandas import GeoSeries\n",
    "from geopandas.base import GeometryArray, GeometryDtype\n",
    "from geopandas.array import from_shapely\n",
    "from geopandas._vectorized import transform\n",
    "import pygeos\n",
    "import shapely.ops\n",
    "from pyspatialkit.utils.linalg import projective_transform_from_pts\n",
    "from pyspatialkit.utils.geopandas import projective_transform"
   ]
  },
  {
   "cell_type": "code",
   "execution_count": 29,
   "metadata": {},
   "outputs": [],
   "source": [
    "pts_source = np.array([[0,1], [1,1], [1,0], [0,0]])\n",
    "pts_dest = np.array([[3,10], [8,10], [8,5], [3,5]])\n",
    "transform_mat = projective_transform_from_pts(pts_source, pts_dest)"
   ]
  },
  {
   "cell_type": "code",
   "execution_count": 51,
   "metadata": {},
   "outputs": [],
   "source": [
    "dims = np.array([100,100])\n",
    "lower = 0.33\n",
    "upper = 0.66\n",
    "vals = np.array([dims * lower, [dims[0]*lower, dims[1]*upper], dims * upper, [dims[0]*upper, dims[1]*lower]])\n",
    "polies = [Polygon(vals) for i in range(100000)]"
   ]
  },
  {
   "cell_type": "code",
   "execution_count": 52,
   "metadata": {},
   "outputs": [],
   "source": [
    "res = []\n",
    "def transform_function(x, y):\n",
    "        x = np.array(x)\n",
    "        y = np.array(y)\n",
    "        tmp = np.stack([x, y, np.ones(len(x))], axis=0)\n",
    "        tmp = transform_mat @ tmp\n",
    "        tmp = tmp.T\n",
    "        return tmp[:,0]/tmp[:, 2], tmp[:, 1]/tmp[:, 2]\n",
    "for poly in polies:\n",
    "    res.append(shapely.ops.transform(transform_function, poly))"
   ]
  },
  {
   "cell_type": "code",
   "execution_count": 53,
   "metadata": {},
   "outputs": [],
   "source": [
    "ds = GeoSeries(polies)\n",
    "res = projective_transform(ds, transform_mat)"
   ]
  },
  {
   "cell_type": "markdown",
   "metadata": {},
   "source": [
    "# Calculate projective transformation"
   ]
  },
  {
   "cell_type": "code",
   "execution_count": null,
   "metadata": {},
   "outputs": [],
   "source": [
    "from skimage import transform\n",
    "from pyspatialkit.utils.linalg import projective_transform_from_pts\n",
    "pts_source = np.array([[0,1], [1,1], [1,0], [0,0]])\n",
    "pts_dest = np.array([[3,10], [8,10], [8,5], [3,5]])"
   ]
  },
  {
   "cell_type": "code",
   "execution_count": null,
   "metadata": {},
   "outputs": [],
   "source": [
    "for i in range(30000):\n",
    "    trans = projective_transform_from_pts(pts_source + i, pts_dest + i)"
   ]
  },
  {
   "cell_type": "code",
   "execution_count": null,
   "metadata": {},
   "outputs": [],
   "source": [
    "for i in range(30000):\n",
    "    trans = transform.estimate_transform('projective', pts_source + i, pts_dest + i).params"
   ]
  }
 ],
 "metadata": {
  "interpreter": {
   "hash": "06217459e5ebcd87f7dbc73abff955c789972eb225a59b85b696bf601b5ed8ce"
  },
  "kernelspec": {
   "display_name": "Python 3.7.12 64-bit ('env': conda)",
   "name": "python3"
  },
  "language_info": {
   "codemirror_mode": {
    "name": "ipython",
    "version": 3
   },
   "file_extension": ".py",
   "mimetype": "text/x-python",
   "name": "python",
   "nbconvert_exporter": "python",
   "pygments_lexer": "ipython3",
   "version": "3.7.12"
  },
  "orig_nbformat": 4
 },
 "nbformat": 4,
 "nbformat_minor": 2
}
