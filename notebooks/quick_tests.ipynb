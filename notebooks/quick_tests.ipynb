{
 "cells": [
  {
   "cell_type": "code",
   "execution_count": 1,
   "id": "fc6394b5",
   "metadata": {},
   "outputs": [],
   "source": [
    "%load_ext autoreload\n",
    "%autoreload 2\n",
    "import sys\n",
    "sys.path.append('../')"
   ]
  },
  {
   "cell_type": "code",
   "execution_count": 2,
   "id": "7be03371",
   "metadata": {},
   "outputs": [],
   "source": [
    "import numpy as np"
   ]
  },
  {
   "cell_type": "code",
   "execution_count": 42,
   "id": "314e4f1f",
   "metadata": {},
   "outputs": [],
   "source": [
    "t1 = np.array([1,2,3,4,5,6,7,8])\n",
    "t1 = t1.reshape([2,2,2])"
   ]
  },
  {
   "cell_type": "code",
   "execution_count": 45,
   "id": "ee224144",
   "metadata": {},
   "outputs": [
    {
     "data": {
      "text/plain": [
       "(2, 2, 2)"
      ]
     },
     "execution_count": 45,
     "metadata": {},
     "output_type": "execute_result"
    }
   ],
   "source": [
    "t1.squeeze()[0,0,0] = 42\n",
    "t1.shape"
   ]
  },
  {
   "cell_type": "code",
   "execution_count": 23,
   "id": "9afa162a",
   "metadata": {},
   "outputs": [],
   "source": [
    "coords = np.stack(np.meshgrid(np.arange(10), np.arange(10), indexing='ij'))"
   ]
  },
  {
   "cell_type": "code",
   "execution_count": 21,
   "id": "d27bc886",
   "metadata": {},
   "outputs": [],
   "source": [
    "mask = np.zeros((10,10), dtype=bool)\n",
    "mask[(0,1,3), (2,3,4)] = True"
   ]
  },
  {
   "cell_type": "code",
   "execution_count": 24,
   "id": "ec357ce6",
   "metadata": {},
   "outputs": [],
   "source": [
    "t = coords[:, mask]"
   ]
  },
  {
   "cell_type": "code",
   "execution_count": 29,
   "id": "d1f4486d",
   "metadata": {},
   "outputs": [
    {
     "ename": "ValueError",
     "evalue": "The truth value of an array with more than one element is ambiguous. Use a.any() or a.all()",
     "output_type": "error",
     "traceback": [
      "\u001b[0;31m---------------------------------------------------------------------------\u001b[0m",
      "\u001b[0;31mValueError\u001b[0m                                Traceback (most recent call last)",
      "\u001b[0;32m/tmp/ipykernel_2078/3718552199.py\u001b[0m in \u001b[0;36m<module>\u001b[0;34m\u001b[0m\n\u001b[0;32m----> 1\u001b[0;31m \u001b[0;32mif\u001b[0m \u001b[0mnp\u001b[0m\u001b[0;34m.\u001b[0m\u001b[0mones\u001b[0m\u001b[0;34m(\u001b[0m\u001b[0;36m3\u001b[0m\u001b[0;34m,\u001b[0m\u001b[0mdtype\u001b[0m\u001b[0;34m=\u001b[0m\u001b[0mbool\u001b[0m\u001b[0;34m)\u001b[0m \u001b[0;34m&\u001b[0m \u001b[0mnp\u001b[0m\u001b[0;34m.\u001b[0m\u001b[0mones\u001b[0m\u001b[0;34m(\u001b[0m\u001b[0;36m3\u001b[0m\u001b[0;34m,\u001b[0m \u001b[0mdtype\u001b[0m\u001b[0;34m=\u001b[0m\u001b[0mbool\u001b[0m\u001b[0;34m)\u001b[0m\u001b[0;34m:\u001b[0m\u001b[0;34m\u001b[0m\u001b[0;34m\u001b[0m\u001b[0m\n\u001b[0m\u001b[1;32m      2\u001b[0m     \u001b[0mprint\u001b[0m\u001b[0;34m(\u001b[0m\u001b[0;34m'A'\u001b[0m\u001b[0;34m)\u001b[0m\u001b[0;34m\u001b[0m\u001b[0;34m\u001b[0m\u001b[0m\n",
      "\u001b[0;31mValueError\u001b[0m: The truth value of an array with more than one element is ambiguous. Use a.any() or a.all()"
     ]
    }
   ],
   "source": [
    "if np.ones(3,dtype=bool) & np.ones(3, dtype=bool):\n",
    "    print('A')"
   ]
  },
  {
   "cell_type": "code",
   "execution_count": 9,
   "id": "6dfba33a",
   "metadata": {},
   "outputs": [],
   "source": [
    "from pathlib import Path\n",
    "import shutil"
   ]
  },
  {
   "cell_type": "code",
   "execution_count": 2,
   "id": "522d9bd8",
   "metadata": {},
   "outputs": [],
   "source": [
    "import tiledb, numpy as np, tempfile"
   ]
  },
  {
   "cell_type": "code",
   "execution_count": 10,
   "id": "37d4cd08",
   "metadata": {},
   "outputs": [],
   "source": [
    "db_path = \"./test_tdb\"\n",
    "shutil.rmtree(db_path)"
   ]
  },
  {
   "cell_type": "code",
   "execution_count": 11,
   "id": "4c1d3b9b",
   "metadata": {},
   "outputs": [],
   "source": [
    "dim1 = tiledb.Dim(domain=(0,1000000), tile=100, dtype=np.uint64)\n",
    "dim2 = tiledb.Dim(domain=(0,1000000), tile=100, dtype=np.uint64)\n",
    "dom = tiledb.Domain(dim1, dim2)"
   ]
  },
  {
   "cell_type": "code",
   "execution_count": 70,
   "id": "b7dd7fa1",
   "metadata": {},
   "outputs": [],
   "source": [
    "t = np.array([1,2,3,4,5,6,7,8,9,10,11,12,13,14,15,16], dtype=np.int32)"
   ]
  },
  {
   "cell_type": "code",
   "execution_count": 88,
   "id": "468625e7",
   "metadata": {},
   "outputs": [
    {
     "data": {
      "text/plain": [
       "array([[ 1,  2,  3,  4],\n",
       "       [ 5,  6,  7,  8],\n",
       "       [ 9, 10, 11, 12],\n",
       "       [13, 14, 15, 16]], dtype=int32)"
      ]
     },
     "execution_count": 88,
     "metadata": {},
     "output_type": "execute_result"
    }
   ],
   "source": [
    "img = t.reshape((4,4))\n",
    "img"
   ]
  },
  {
   "cell_type": "code",
   "execution_count": 94,
   "id": "8f8968ec",
   "metadata": {},
   "outputs": [
    {
     "data": {
      "text/plain": [
       "(2, 4)"
      ]
     },
     "execution_count": 94,
     "metadata": {},
     "output_type": "execute_result"
    }
   ],
   "source": [
    "img[::2,:].shape"
   ]
  },
  {
   "cell_type": "code",
   "execution_count": 96,
   "id": "86d5354b",
   "metadata": {},
   "outputs": [
    {
     "data": {
      "text/plain": [
       "array([[ 3.5,  5.5],\n",
       "       [11.5, 13.5]])"
      ]
     },
     "execution_count": 96,
     "metadata": {},
     "output_type": "execute_result"
    }
   ],
   "source": [
    "np.stack([img[::2,::2], img[1::2,::2], img[::2,1::2], img[1::2,1::2]], axis=2).mean(axis=2)"
   ]
  },
  {
   "cell_type": "code",
   "execution_count": 91,
   "id": "810e7f24",
   "metadata": {},
   "outputs": [
    {
     "data": {
      "text/plain": [
       "array([1., 1., 1., 1., 1., 1., 1., 1., 1., 1.])"
      ]
     },
     "execution_count": 91,
     "metadata": {},
     "output_type": "execute_result"
    }
   ],
   "source": [
    "f = np.ones(10)\n",
    "np.ceil(f)"
   ]
  },
  {
   "cell_type": "code",
   "execution_count": 69,
   "id": "519a7dce",
   "metadata": {},
   "outputs": [
    {
     "ename": "UFuncTypeError",
     "evalue": "ufunc 'add' did not contain a loop with signature matching types (dtype([('f0', '<i4'), ('f1', '<i4'), ('f2', '<i4')]), dtype([('f0', '<i4'), ('f1', '<i4'), ('f2', '<i4')])) -> dtype([('f0', '<i4'), ('f1', '<i4'), ('f2', '<i4')])",
     "output_type": "error",
     "traceback": [
      "\u001b[0;31m---------------------------------------------------------------------------\u001b[0m",
      "\u001b[0;31mUFuncTypeError\u001b[0m                            Traceback (most recent call last)",
      "\u001b[0;32m/tmp/ipykernel_10260/1971168497.py\u001b[0m in \u001b[0;36m<module>\u001b[0;34m\u001b[0m\n\u001b[0;32m----> 1\u001b[0;31m \u001b[0mt\u001b[0m\u001b[0;34m.\u001b[0m\u001b[0mview\u001b[0m\u001b[0;34m(\u001b[0m\u001b[0mnp\u001b[0m\u001b[0;34m.\u001b[0m\u001b[0mdtype\u001b[0m\u001b[0;34m(\u001b[0m\u001b[0;34m'i4,i4,i4'\u001b[0m\u001b[0;34m)\u001b[0m\u001b[0;34m)\u001b[0m \u001b[0;34m+\u001b[0m \u001b[0mt2\u001b[0m\u001b[0;34m.\u001b[0m\u001b[0mview\u001b[0m\u001b[0;34m(\u001b[0m\u001b[0mnp\u001b[0m\u001b[0;34m.\u001b[0m\u001b[0mdtype\u001b[0m\u001b[0;34m(\u001b[0m\u001b[0;34m'i4,i4,i4'\u001b[0m\u001b[0;34m)\u001b[0m\u001b[0;34m)\u001b[0m\u001b[0;34m\u001b[0m\u001b[0;34m\u001b[0m\u001b[0m\n\u001b[0m",
      "\u001b[0;31mUFuncTypeError\u001b[0m: ufunc 'add' did not contain a loop with signature matching types (dtype([('f0', '<i4'), ('f1', '<i4'), ('f2', '<i4')]), dtype([('f0', '<i4'), ('f1', '<i4'), ('f2', '<i4')])) -> dtype([('f0', '<i4'), ('f1', '<i4'), ('f2', '<i4')])"
     ]
    }
   ],
   "source": [
    "t.view(np.dtype('i4,i4,i4')) + t2.view(np.dtype('i4,i4,i4'))"
   ]
  },
  {
   "cell_type": "code",
   "execution_count": 65,
   "id": "3cc17e6a",
   "metadata": {},
   "outputs": [],
   "source": [
    "schema = tiledb.ArraySchema(domain=dom, attrs=[(tiledb.Attr(name=\"a1\", dtype=np.int64)),])"
   ]
  },
  {
   "cell_type": "code",
   "execution_count": 13,
   "id": "285a999c",
   "metadata": {},
   "outputs": [],
   "source": [
    "ar = tiledb.DenseArray.create(db_path, schema)"
   ]
  },
  {
   "cell_type": "code",
   "execution_count": 15,
   "id": "33c5c298",
   "metadata": {},
   "outputs": [
    {
     "data": {
      "text/plain": [
       "NoneType"
      ]
     },
     "execution_count": 15,
     "metadata": {},
     "output_type": "execute_result"
    }
   ],
   "source": [
    "type(ar)"
   ]
  },
  {
   "cell_type": "code",
   "execution_count": 50,
   "id": "92478582",
   "metadata": {},
   "outputs": [
    {
     "name": "stdout",
     "output_type": "stream",
     "text": [
      "[[1 1 1 1 1 4 1 1 1 1]\n",
      " [1 1 1 1 1 4 1 1 1 1]\n",
      " [1 1 1 1 1 4 1 1 1 1]\n",
      " [1 1 1 1 1 4 1 1 1 1]\n",
      " [1 1 1 1 1 4 1 1 1 1]\n",
      " [1 1 1 1 1 4 1 1 1 1]\n",
      " [1 1 1 1 1 4 1 1 1 1]\n",
      " [1 1 1 1 1 4 1 1 1 1]\n",
      " [1 1 1 1 1 4 1 1 1 1]\n",
      " [1 1 1 1 1 4 1 1 1 1]]\n"
     ]
    }
   ],
   "source": [
    "for i in range(1):\n",
    "    with tiledb.DenseArray(db_path, mode='r') as A0:\n",
    "        with tiledb.DenseArray(db_path, mode='w') as A:\n",
    "            t = np.ones((10,10))\n",
    "            t[0:10, 5] = 5\n",
    "            A[100000:100010, 100000:100010] = {\"a1\": t}\n",
    "        print(A0[100000:100010, 100000:100010][\"a1\"])\n",
    "        #A[1,1] = {'a1', np.ones((1,), dtype=np.int64)}"
   ]
  },
  {
   "cell_type": "code",
   "execution_count": 51,
   "id": "8de33835",
   "metadata": {},
   "outputs": [
    {
     "data": {
      "text/plain": [
       "array([5, 5, 5, 5, 5, 5, 5, 5, 5, 5])"
      ]
     },
     "execution_count": 51,
     "metadata": {},
     "output_type": "execute_result"
    }
   ],
   "source": [
    "\n",
    "with tiledb.DenseArray(db_path, mode='r') as A:\n",
    "        for i in range(100):\n",
    "                tmp = A[100000:100010, 100000:100010][\"a1\"]\n",
    "tmp[0:10, 5]"
   ]
  },
  {
   "cell_type": "code",
   "execution_count": null,
   "id": "80c065d2",
   "metadata": {},
   "outputs": [],
   "source": []
  }
 ],
 "metadata": {
  "interpreter": {
   "hash": "06217459e5ebcd87f7dbc73abff955c789972eb225a59b85b696bf601b5ed8ce"
  },
  "kernelspec": {
   "display_name": "Python 3.7.12 64-bit ('env': conda)",
   "name": "python3"
  },
  "language_info": {
   "codemirror_mode": {
    "name": "ipython",
    "version": 3
   },
   "file_extension": ".py",
   "mimetype": "text/x-python",
   "name": "python",
   "nbconvert_exporter": "python",
   "pygments_lexer": "ipython3",
   "version": "3.7.12"
  }
 },
 "nbformat": 4,
 "nbformat_minor": 5
}
