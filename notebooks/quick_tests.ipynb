{
 "cells": [
  {
   "cell_type": "code",
   "execution_count": 1,
   "id": "fc6394b5",
   "metadata": {},
   "outputs": [],
   "source": [
    "%load_ext autoreload\n",
    "%autoreload 2\n",
    "import sys\n",
    "sys.path.append('../')"
   ]
  },
  {
   "cell_type": "code",
   "execution_count": 2,
   "id": "7be03371",
   "metadata": {},
   "outputs": [],
   "source": [
    "import numpy as np\n",
    "import rasterio as rio\n",
    "from matplotlib import pyplot as plt"
   ]
  },
  {
   "cell_type": "code",
   "execution_count": 3,
   "id": "ab6f0d9d",
   "metadata": {},
   "outputs": [],
   "source": [
    "from multiprocessing import Process\n",
    "import time\n",
    "import trimesh\n",
    "import json"
   ]
  },
  {
   "cell_type": "code",
   "execution_count": 5,
   "id": "bc4914ed",
   "metadata": {},
   "outputs": [],
   "source": [
    "from pyspatialkit.crs.geocrs import GeoCrs\n",
    "from pyspatialkit.dataobjects.geomesh import GeoMesh"
   ]
  },
  {
   "cell_type": "code",
   "execution_count": 12,
   "id": "0c6e934a-8092-4937-9d09-4fbef6535ed4",
   "metadata": {},
   "outputs": [
    {
     "data": {
      "text/plain": [
       "array([0.5, 1. , 0.5])"
      ]
     },
     "execution_count": 12,
     "metadata": {},
     "output_type": "execute_result"
    }
   ],
   "source": [
    "t1= np.array([1,2,3])\n",
    "t2 = np.array([3,2,1])\n",
    "(np.minimum(t1, t2) / 2)"
   ]
  },
  {
   "cell_type": "code",
   "execution_count": 45,
   "id": "80c065d2",
   "metadata": {},
   "outputs": [],
   "source": [
    "Z_UP_Y_UP_TRANSFORM = np.array([[ 1.,0.,0.,0.],[ 0.,0.,1.,0.],[0.,-1.,0.,0.],[ 0.,0.,0.,1.]])"
   ]
  },
  {
   "cell_type": "code",
   "execution_count": 44,
   "id": "3346e20f-4462-4476-a80b-a9310166395f",
   "metadata": {},
   "outputs": [
    {
     "data": {
      "text/plain": [
       "array([[ 1.,  0.,  0.,  0.],\n",
       "       [ 0.,  0.,  1.,  0.],\n",
       "       [-0., -1., -0., -0.],\n",
       "       [ 0.,  0.,  0.,  1.]])"
      ]
     },
     "execution_count": 44,
     "metadata": {},
     "output_type": "execute_result"
    }
   ],
   "source": [
    "transform_inv"
   ]
  },
  {
   "cell_type": "code",
   "execution_count": 38,
   "id": "9e5cca7c-7c1a-458f-89aa-c6f7378baa2a",
   "metadata": {},
   "outputs": [],
   "source": [
    "transform = np.array([[1,0,0,0],[0,0,-1,0],[0,1,0,0],[0,0,0,1]])\n",
    "transform_inv = np.linalg.inv(transform)"
   ]
  },
  {
   "cell_type": "code",
   "execution_count": 50,
   "id": "445a64f2-17ba-4f49-a457-50c2d73e7a3f",
   "metadata": {},
   "outputs": [
    {
     "data": {
      "text/plain": [
       "'[0.0, 1.5, 3.0]'"
      ]
     },
     "execution_count": 50,
     "metadata": {},
     "output_type": "execute_result"
    }
   ],
   "source": [
    "center = np.array([0, 1.5, 3])\n",
    "json.dumps(list(center))"
   ]
  },
  {
   "cell_type": "code",
   "execution_count": 46,
   "id": "adb4fc67-b817-45a5-9af2-f6a3652be5b9",
   "metadata": {},
   "outputs": [],
   "source": [
    "tmesh = trimesh.creation.box()\n",
    "tscene = trimesh.scene.Scene()\n",
    "tscene.add_geometry(tmesh, transform=Z_UP_Y_UP_TRANSFORM)\n",
    "binary = tscene.export(file_type='glb')"
   ]
  },
  {
   "cell_type": "code",
   "execution_count": 47,
   "id": "1311f6b0-c822-45fe-b7a8-d09495e5d647",
   "metadata": {},
   "outputs": [
    {
     "data": {
      "text/plain": [
       "{'scene': 0,\n",
       " 'scenes': [{'nodes': [0]}],\n",
       " 'asset': {'version': '2.0', 'generator': 'https://github.com/mikedh/trimesh'},\n",
       " 'accessors': [{'componentType': 5125,\n",
       "   'type': 'SCALAR',\n",
       "   'bufferView': 0,\n",
       "   'count': 36,\n",
       "   'max': [7],\n",
       "   'min': [0]},\n",
       "  {'componentType': 5126,\n",
       "   'type': 'VEC3',\n",
       "   'byteOffset': 0,\n",
       "   'bufferView': 1,\n",
       "   'count': 8,\n",
       "   'max': [0.5, 0.5, 0.5],\n",
       "   'min': [-0.5, -0.5, -0.5]}],\n",
       " 'meshes': [{'name': 'geometry_0',\n",
       "   'extras': {'shape': 'box', 'extents': [1.0, 1.0, 1.0]},\n",
       "   'primitives': [{'attributes': {'POSITION': 1}, 'indices': 0, 'mode': 4}]}],\n",
       " 'nodes': [{'name': 'world', 'children': [1]},\n",
       "  {'name': 'geometry_0',\n",
       "   'mesh': 0,\n",
       "   'matrix': [1.0,\n",
       "    0.0,\n",
       "    -0.0,\n",
       "    0.0,\n",
       "    0.0,\n",
       "    0.0,\n",
       "    -1.0,\n",
       "    0.0,\n",
       "    0.0,\n",
       "    1.0,\n",
       "    -0.0,\n",
       "    0.0,\n",
       "    0.0,\n",
       "    0.0,\n",
       "    -0.0,\n",
       "    1.0]}],\n",
       " 'buffers': [{'byteLength': 240}],\n",
       " 'bufferViews': [{'buffer': 0, 'byteOffset': 0, 'byteLength': 144},\n",
       "  {'buffer': 0, 'byteOffset': 144, 'byteLength': 96}]}"
      ]
     },
     "execution_count": 47,
     "metadata": {},
     "output_type": "execute_result"
    }
   ],
   "source": [
    "start = binary.find('{'.encode('ascii'))\n",
    "end = binary.rfind('}'.encode('ascii'))\n",
    "mesh_json = json.loads(binary[start:end+1].decode('utf-8'))\n",
    "mesh_json"
   ]
  }
 ],
 "metadata": {
  "interpreter": {
   "hash": "06217459e5ebcd87f7dbc73abff955c789972eb225a59b85b696bf601b5ed8ce"
  },
  "kernelspec": {
   "display_name": "Python 3 (ipykernel)",
   "language": "python",
   "name": "python3"
  },
  "language_info": {
   "codemirror_mode": {
    "name": "ipython",
    "version": 3
   },
   "file_extension": ".py",
   "mimetype": "text/x-python",
   "name": "python",
   "nbconvert_exporter": "python",
   "pygments_lexer": "ipython3",
   "version": "3.7.12"
  }
 },
 "nbformat": 4,
 "nbformat_minor": 5
}
