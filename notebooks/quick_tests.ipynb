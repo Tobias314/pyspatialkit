{
 "cells": [
  {
   "cell_type": "code",
   "execution_count": 1,
   "id": "fc6394b5",
   "metadata": {},
   "outputs": [],
   "source": [
    "%load_ext autoreload\n",
    "%autoreload 2\n",
    "import sys\n",
    "sys.path.append('../')"
   ]
  },
  {
   "cell_type": "code",
   "execution_count": 2,
   "id": "7be03371",
   "metadata": {},
   "outputs": [],
   "source": [
    "import numpy as np\n",
    "import rasterio as rio\n",
    "from matplotlib import pyplot as plt"
   ]
  },
  {
   "cell_type": "code",
   "execution_count": 3,
   "id": "ab6f0d9d",
   "metadata": {},
   "outputs": [],
   "source": [
    "from multiprocessing import Process\n",
    "import time"
   ]
  },
  {
   "cell_type": "code",
   "execution_count": 4,
   "id": "bc4914ed",
   "metadata": {},
   "outputs": [],
   "source": [
    "from pyspatialkit.crs.geocrs import GeoCrs"
   ]
  },
  {
   "cell_type": "code",
   "execution_count": 12,
   "id": "be980ef3",
   "metadata": {},
   "outputs": [],
   "source": [
    "requ_min = [0,1,2]\n",
    "requ_max = [2,3,3]\n",
    "ranges = [np.arange(axis_min, axis_max) for axis_min, axis_max in zip(requ_min, requ_max)]\n",
    "tiles = np.stack([a.flatten() for a in np.meshgrid(*ranges, indexing='ij')], axis=1)"
   ]
  },
  {
   "cell_type": "code",
   "execution_count": 11,
   "id": "bfa648b5",
   "metadata": {},
   "outputs": [
    {
     "name": "stdout",
     "output_type": "stream",
     "text": [
      "lol\n"
     ]
    }
   ],
   "source": [
    "with open('test.txt', 'w') as f:\n",
    "    with open('test.txt', 'w') as f2:\n",
    "        f.write('test2')\n",
    "        f.write('test1')\n",
    "        print('lol')"
   ]
  },
  {
   "cell_type": "code",
   "execution_count": 31,
   "id": "0c3ee720",
   "metadata": {},
   "outputs": [],
   "source": [
    "t1 = np.array([[1,2],[3,4],[5,6]])\n",
    "t2 = np.array([[7,8],[1,2],[3,4]])"
   ]
  },
  {
   "cell_type": "code",
   "execution_count": 68,
   "id": "a273adeb",
   "metadata": {},
   "outputs": [],
   "source": [
    "test = np.array([[1,2,3],[4,5,6],[7,8,9],[10,11,12]])\n",
    "x,y,z = np.split(test, 3, axis=1)"
   ]
  },
  {
   "cell_type": "code",
   "execution_count": 78,
   "id": "0ca3cedb",
   "metadata": {},
   "outputs": [],
   "source": [
    "tmp = np.array(['t'*10000], dtype=str)"
   ]
  },
  {
   "cell_type": "code",
   "execution_count": 85,
   "id": "b74fd9d5",
   "metadata": {},
   "outputs": [],
   "source": [
    "import fcl"
   ]
  },
  {
   "cell_type": "code",
   "execution_count": 81,
   "id": "17076b6e",
   "metadata": {},
   "outputs": [],
   "source": [
    "import json\n",
    "crs_str = json.dumps(GeoCrs.from_epsg(4326).to_dict())\n",
    "crs = GeoCrs.from_dict(json.loads(crs_str))"
   ]
  },
  {
   "cell_type": "code",
   "execution_count": 45,
   "id": "d0d7a222",
   "metadata": {},
   "outputs": [
    {
     "name": "stdout",
     "output_type": "stream",
     "text": [
      "CPU times: user 3 µs, sys: 2 µs, total: 5 µs\n",
      "Wall time: 7.87 µs\n"
     ]
    },
    {
     "ename": "KeyboardInterrupt",
     "evalue": "",
     "output_type": "error",
     "traceback": [
      "\u001b[0;31m---------------------------------------------------------------------------\u001b[0m",
      "\u001b[0;31mKeyboardInterrupt\u001b[0m                         Traceback (most recent call last)",
      "\u001b[0;32m/tmp/ipykernel_23644/2078016907.py\u001b[0m in \u001b[0;36m<module>\u001b[0;34m\u001b[0m\n\u001b[1;32m      2\u001b[0m \u001b[0mtmp\u001b[0m \u001b[0;34m=\u001b[0m \u001b[0mnp\u001b[0m\u001b[0;34m.\u001b[0m\u001b[0mzeros\u001b[0m\u001b[0;34m(\u001b[0m\u001b[0;34m(\u001b[0m\u001b[0;36m0\u001b[0m\u001b[0;34m,\u001b[0m\u001b[0;36m3\u001b[0m\u001b[0;34m)\u001b[0m\u001b[0;34m)\u001b[0m\u001b[0;34m\u001b[0m\u001b[0;34m\u001b[0m\u001b[0m\n\u001b[1;32m      3\u001b[0m \u001b[0;32mfor\u001b[0m \u001b[0mi\u001b[0m \u001b[0;32min\u001b[0m \u001b[0mrange\u001b[0m\u001b[0;34m(\u001b[0m\u001b[0;36m100000\u001b[0m\u001b[0;34m)\u001b[0m\u001b[0;34m:\u001b[0m\u001b[0;34m\u001b[0m\u001b[0;34m\u001b[0m\u001b[0m\n\u001b[0;32m----> 4\u001b[0;31m     \u001b[0mtmp\u001b[0m \u001b[0;34m=\u001b[0m \u001b[0mnp\u001b[0m\u001b[0;34m.\u001b[0m\u001b[0mappend\u001b[0m\u001b[0;34m(\u001b[0m\u001b[0mtmp\u001b[0m\u001b[0;34m,\u001b[0m \u001b[0;34m[\u001b[0m\u001b[0;34m[\u001b[0m\u001b[0mi\u001b[0m\u001b[0;34m,\u001b[0m\u001b[0mi\u001b[0m\u001b[0;34m,\u001b[0m\u001b[0mi\u001b[0m\u001b[0;34m]\u001b[0m\u001b[0;34m]\u001b[0m\u001b[0;34m)\u001b[0m\u001b[0;34m\u001b[0m\u001b[0;34m\u001b[0m\u001b[0m\n\u001b[0m",
      "\u001b[0;32m<__array_function__ internals>\u001b[0m in \u001b[0;36mappend\u001b[0;34m(*args, **kwargs)\u001b[0m\n",
      "\u001b[0;32m/opt/conda/envs/env/lib/python3.7/site-packages/numpy/lib/function_base.py\u001b[0m in \u001b[0;36mappend\u001b[0;34m(arr, values, axis)\u001b[0m\n\u001b[1;32m   4815\u001b[0m         \u001b[0mvalues\u001b[0m \u001b[0;34m=\u001b[0m \u001b[0mravel\u001b[0m\u001b[0;34m(\u001b[0m\u001b[0mvalues\u001b[0m\u001b[0;34m)\u001b[0m\u001b[0;34m\u001b[0m\u001b[0;34m\u001b[0m\u001b[0m\n\u001b[1;32m   4816\u001b[0m         \u001b[0maxis\u001b[0m \u001b[0;34m=\u001b[0m \u001b[0marr\u001b[0m\u001b[0;34m.\u001b[0m\u001b[0mndim\u001b[0m\u001b[0;34m-\u001b[0m\u001b[0;36m1\u001b[0m\u001b[0;34m\u001b[0m\u001b[0;34m\u001b[0m\u001b[0m\n\u001b[0;32m-> 4817\u001b[0;31m     \u001b[0;32mreturn\u001b[0m \u001b[0mconcatenate\u001b[0m\u001b[0;34m(\u001b[0m\u001b[0;34m(\u001b[0m\u001b[0marr\u001b[0m\u001b[0;34m,\u001b[0m \u001b[0mvalues\u001b[0m\u001b[0;34m)\u001b[0m\u001b[0;34m,\u001b[0m \u001b[0maxis\u001b[0m\u001b[0;34m=\u001b[0m\u001b[0maxis\u001b[0m\u001b[0;34m)\u001b[0m\u001b[0;34m\u001b[0m\u001b[0;34m\u001b[0m\u001b[0m\n\u001b[0m\u001b[1;32m   4818\u001b[0m \u001b[0;34m\u001b[0m\u001b[0m\n\u001b[1;32m   4819\u001b[0m \u001b[0;34m\u001b[0m\u001b[0m\n",
      "\u001b[0;32m<__array_function__ internals>\u001b[0m in \u001b[0;36mconcatenate\u001b[0;34m(*args, **kwargs)\u001b[0m\n",
      "\u001b[0;31mKeyboardInterrupt\u001b[0m: "
     ]
    }
   ],
   "source": [
    "%time\n",
    "tmp = np.zeros((0,3))\n",
    "for i in range(100000):\n",
    "    tmp = np.append(tmp, [[i,i,i]])"
   ]
  },
  {
   "cell_type": "code",
   "execution_count": 37,
   "id": "426c4903",
   "metadata": {},
   "outputs": [
    {
     "data": {
      "text/plain": [
       "array([], shape=(0, 3), dtype=float64)"
      ]
     },
     "execution_count": 37,
     "metadata": {},
     "output_type": "execute_result"
    }
   ],
   "source": [
    "tmp"
   ]
  },
  {
   "cell_type": "code",
   "execution_count": 30,
   "id": "e2892b5a",
   "metadata": {},
   "outputs": [
    {
     "name": "stdout",
     "output_type": "stream",
     "text": [
      "[1 2]\n",
      "[3 4]\n",
      "[5 6]\n"
     ]
    }
   ],
   "source": [
    "t = np.array([(1,2), (3,4), (5,6)])\n",
    "for x in t:\n",
    "    print(x)"
   ]
  },
  {
   "cell_type": "code",
   "execution_count": 29,
   "id": "8c2379b5",
   "metadata": {},
   "outputs": [
    {
     "data": {
      "text/plain": [
       "(3, 1)"
      ]
     },
     "execution_count": 29,
     "metadata": {},
     "output_type": "execute_result"
    }
   ],
   "source": [
    "np.array([1,2,3])[:, np.newaxis].shape"
   ]
  },
  {
   "cell_type": "code",
   "execution_count": 19,
   "id": "ba2cf329",
   "metadata": {},
   "outputs": [
    {
     "data": {
      "text/plain": [
       "[array([[1, 2, 2],\n",
       "        [1, 2, 3],\n",
       "        [1, 2, 4]]),\n",
       " array([[1, 3, 1],\n",
       "        [1, 3, 2],\n",
       "        [1, 3, 3]])]"
      ]
     },
     "execution_count": 19,
     "metadata": {},
     "output_type": "execute_result"
    }
   ],
   "source": [
    "candidates = np.array([[1,2,2],[1,2,3],[1,2,4],[1,2,4],[1,3,1],[1,3,2],[1,3,3]])\n",
    "candidates = np.unique(np.concatenate([candidates], axis=0), axis=0)\n",
    "tmp = np.unique(candidates[:, :2], return_index=True, axis=0)[1][1:]\n",
    "candidates = np.split(candidates, tmp)\n",
    "candidates"
   ]
  },
  {
   "cell_type": "code",
   "execution_count": 13,
   "id": "3ddfe7fe",
   "metadata": {},
   "outputs": [],
   "source": [
    "tmp = np.split(candidates, np.unique(candidates, axis=0, return_index=True)[1])"
   ]
  },
  {
   "cell_type": "code",
   "execution_count": 14,
   "id": "ab8c7597",
   "metadata": {},
   "outputs": [
    {
     "data": {
      "text/plain": [
       "[array([], shape=(0, 3), dtype=int64),\n",
       " array([[1, 2, 2]]),\n",
       " array([[1, 2, 3]]),\n",
       " array([[1, 2, 4],\n",
       "        [1, 2, 4]]),\n",
       " array([[1, 3, 1]]),\n",
       " array([[1, 3, 2]]),\n",
       " array([[1, 3, 3]])]"
      ]
     },
     "execution_count": 14,
     "metadata": {},
     "output_type": "execute_result"
    }
   ],
   "source": [
    "tmp"
   ]
  },
  {
   "cell_type": "code",
   "execution_count": 36,
   "id": "e9eb23bc",
   "metadata": {},
   "outputs": [
    {
     "data": {
      "text/plain": [
       "array([[1, 2],\n",
       "       [3, 4],\n",
       "       [5, 6],\n",
       "       [7, 8]])"
      ]
     },
     "execution_count": 36,
     "metadata": {},
     "output_type": "execute_result"
    }
   ],
   "source": [
    "tmp = np.concatenate([t1,t2], axis=0)\n",
    "np.unique(tmp, axis=0)"
   ]
  },
  {
   "cell_type": "code",
   "execution_count": 26,
   "id": "f4d3ea10",
   "metadata": {},
   "outputs": [
    {
     "data": {
      "text/plain": [
       "'1.21.5'"
      ]
     },
     "execution_count": 26,
     "metadata": {},
     "output_type": "execute_result"
    }
   ],
   "source": [
    "np.__version__"
   ]
  },
  {
   "cell_type": "code",
   "execution_count": 1,
   "id": "5ea807ef",
   "metadata": {},
   "outputs": [],
   "source": [
    "def f(name):\n",
    "    time.sleep(10)\n",
    "    print('hello', name)"
   ]
  },
  {
   "cell_type": "code",
   "execution_count": 6,
   "id": "54a62ea4",
   "metadata": {},
   "outputs": [],
   "source": [
    "class TestClass:\n",
    "    @classmethod\n",
    "    def TestFunction(cls, a):\n",
    "        return a"
   ]
  },
  {
   "cell_type": "code",
   "execution_count": 7,
   "id": "e5c6d720",
   "metadata": {},
   "outputs": [],
   "source": [
    "import inspect"
   ]
  },
  {
   "cell_type": "code",
   "execution_count": 14,
   "id": "a5ae299f",
   "metadata": {},
   "outputs": [
    {
     "data": {
      "text/plain": [
       "'(a)'"
      ]
     },
     "execution_count": 14,
     "metadata": {},
     "output_type": "execute_result"
    }
   ],
   "source": [
    "str(inspect.signature(TestClass.TestFunction))"
   ]
  },
  {
   "cell_type": "code",
   "execution_count": 20,
   "id": "2d5d7ce1",
   "metadata": {},
   "outputs": [],
   "source": [
    "mod_name = inspect.getmodule(f).__name__"
   ]
  },
  {
   "cell_type": "code",
   "execution_count": 21,
   "id": "6c86278a",
   "metadata": {},
   "outputs": [
    {
     "data": {
      "text/plain": [
       "'__main__'"
      ]
     },
     "execution_count": 21,
     "metadata": {},
     "output_type": "execute_result"
    }
   ],
   "source": [
    "mod_name"
   ]
  },
  {
   "cell_type": "code",
   "execution_count": 22,
   "id": "49ea1232",
   "metadata": {},
   "outputs": [],
   "source": [
    "import importlib\n",
    "module = importlib.import_module(mod_name)\n",
    "getattr(module, 'f')"
   ]
  },
  {
   "cell_type": "code",
   "execution_count": 30,
   "id": "457bc9c1",
   "metadata": {},
   "outputs": [
    {
     "data": {
      "text/plain": [
       "True"
      ]
     },
     "execution_count": 30,
     "metadata": {},
     "output_type": "execute_result"
    }
   ],
   "source": [
    "isinstance(3, (float, int))"
   ]
  },
  {
   "cell_type": "code",
   "execution_count": null,
   "id": "62649b3a",
   "metadata": {},
   "outputs": [],
   "source": []
  },
  {
   "cell_type": "code",
   "execution_count": 16,
   "id": "237b7222",
   "metadata": {},
   "outputs": [
    {
     "name": "stdout",
     "output_type": "stream",
     "text": [
      "hello bob\n"
     ]
    }
   ],
   "source": [
    "p = Process(target=f, args=('bob',))\n",
    "p.start()"
   ]
  },
  {
   "cell_type": "code",
   "execution_count": 4,
   "id": "016ce202",
   "metadata": {},
   "outputs": [],
   "source": [
    "dataset = rio.open(\"../testdata/dop100rgbi_32_736_5748_2_st_2020.tif\")\n",
    "img = dataset.read()"
   ]
  },
  {
   "cell_type": "code",
   "execution_count": 6,
   "id": "98b252f0",
   "metadata": {},
   "outputs": [
    {
     "data": {
      "text/plain": [
       "<matplotlib.image.AxesImage at 0x7ff4192f7090>"
      ]
     },
     "execution_count": 6,
     "metadata": {},
     "output_type": "execute_result"
    },
    {
     "data": {
      "image/png": "[encoded data removed]",
      "text/plain": [
       "<Figure size 432x288 with 1 Axes>"
      ]
     },
     "metadata": {
      "needs_background": "light"
     },
     "output_type": "display_data"
    }
   ],
   "source": [
    "plt.imshow(img[0])"
   ]
  },
  {
   "cell_type": "code",
   "execution_count": null,
   "id": "9100ecb8",
   "metadata": {},
   "outputs": [],
   "source": []
  },
  {
   "cell_type": "code",
   "execution_count": null,
   "id": "6a2c74ef",
   "metadata": {},
   "outputs": [],
   "source": []
  },
  {
   "cell_type": "code",
   "execution_count": null,
   "id": "55a725ec",
   "metadata": {},
   "outputs": [],
   "source": []
  },
  {
   "cell_type": "code",
   "execution_count": null,
   "id": "068c18d2",
   "metadata": {},
   "outputs": [],
   "source": []
  },
  {
   "cell_type": "code",
   "execution_count": 42,
   "id": "314e4f1f",
   "metadata": {},
   "outputs": [],
   "source": [
    "t1 = np.array([1,2,3,4,5,6,7,8])\n",
    "t1 = t1.reshape([2,2,2])"
   ]
  },
  {
   "cell_type": "code",
   "execution_count": 45,
   "id": "ee224144",
   "metadata": {},
   "outputs": [
    {
     "data": {
      "text/plain": [
       "(2, 2, 2)"
      ]
     },
     "execution_count": 45,
     "metadata": {},
     "output_type": "execute_result"
    }
   ],
   "source": [
    "t1.squeeze()[0,0,0] = 42\n",
    "t1.shape"
   ]
  },
  {
   "cell_type": "code",
   "execution_count": 23,
   "id": "9afa162a",
   "metadata": {},
   "outputs": [],
   "source": [
    "coords = np.stack(np.meshgrid(np.arange(10), np.arange(10), indexing='ij'))"
   ]
  },
  {
   "cell_type": "code",
   "execution_count": 21,
   "id": "d27bc886",
   "metadata": {},
   "outputs": [],
   "source": [
    "mask = np.zeros((10,10), dtype=bool)\n",
    "mask[(0,1,3), (2,3,4)] = True"
   ]
  },
  {
   "cell_type": "code",
   "execution_count": 24,
   "id": "ec357ce6",
   "metadata": {},
   "outputs": [],
   "source": [
    "t = coords[:, mask]"
   ]
  },
  {
   "cell_type": "code",
   "execution_count": 29,
   "id": "d1f4486d",
   "metadata": {},
   "outputs": [
    {
     "ename": "ValueError",
     "evalue": "The truth value of an array with more than one element is ambiguous. Use a.any() or a.all()",
     "output_type": "error",
     "traceback": [
      "\u001b[0;31m---------------------------------------------------------------------------\u001b[0m",
      "\u001b[0;31mValueError\u001b[0m                                Traceback (most recent call last)",
      "\u001b[0;32m/tmp/ipykernel_2078/3718552199.py\u001b[0m in \u001b[0;36m<module>\u001b[0;34m\u001b[0m\n\u001b[0;32m----> 1\u001b[0;31m \u001b[0;32mif\u001b[0m \u001b[0mnp\u001b[0m\u001b[0;34m.\u001b[0m\u001b[0mones\u001b[0m\u001b[0;34m(\u001b[0m\u001b[0;36m3\u001b[0m\u001b[0;34m,\u001b[0m\u001b[0mdtype\u001b[0m\u001b[0;34m=\u001b[0m\u001b[0mbool\u001b[0m\u001b[0;34m)\u001b[0m \u001b[0;34m&\u001b[0m \u001b[0mnp\u001b[0m\u001b[0;34m.\u001b[0m\u001b[0mones\u001b[0m\u001b[0;34m(\u001b[0m\u001b[0;36m3\u001b[0m\u001b[0;34m,\u001b[0m \u001b[0mdtype\u001b[0m\u001b[0;34m=\u001b[0m\u001b[0mbool\u001b[0m\u001b[0;34m)\u001b[0m\u001b[0;34m:\u001b[0m\u001b[0;34m\u001b[0m\u001b[0;34m\u001b[0m\u001b[0m\n\u001b[0m\u001b[1;32m      2\u001b[0m     \u001b[0mprint\u001b[0m\u001b[0;34m(\u001b[0m\u001b[0;34m'A'\u001b[0m\u001b[0;34m)\u001b[0m\u001b[0;34m\u001b[0m\u001b[0;34m\u001b[0m\u001b[0m\n",
      "\u001b[0;31mValueError\u001b[0m: The truth value of an array with more than one element is ambiguous. Use a.any() or a.all()"
     ]
    }
   ],
   "source": [
    "if np.ones(3,dtype=bool) & np.ones(3, dtype=bool):\n",
    "    print('A')"
   ]
  },
  {
   "cell_type": "code",
   "execution_count": 1,
   "id": "6dfba33a",
   "metadata": {},
   "outputs": [],
   "source": [
    "from pathlib import Path\n",
    "import shutil"
   ]
  },
  {
   "cell_type": "code",
   "execution_count": 36,
   "id": "522d9bd8",
   "metadata": {},
   "outputs": [],
   "source": [
    "import tiledb, numpy as np, tempfile\n",
    "from tiledb.multirange_indexing import _get_pyquery\n",
    "import pandas as pd"
   ]
  },
  {
   "cell_type": "code",
   "execution_count": 3,
   "id": "37d4cd08",
   "metadata": {},
   "outputs": [],
   "source": [
    "db_path = \"./test_tdb\"\n",
    "#shutil.rmtree(db_path)"
   ]
  },
  {
   "cell_type": "code",
   "execution_count": 62,
   "id": "4c1d3b9b",
   "metadata": {},
   "outputs": [],
   "source": [
    "dim1 = tiledb.Dim(name='x', domain=(0,1000000), tile=10, dtype=np.float64)\n",
    "dim2 = tiledb.Dim(name='y', domain=(0,1000000), tile=10, dtype=np.float64)\n",
    "dim3 = tiledb.Dim(name='z', domain=(0,1000000), tile=10, dtype=np.float64)\n",
    "dom = tiledb.Domain(dim1, dim2, dim3)\n",
    "schema = tiledb.ArraySchema(domain=dom, sparse=True, attrs=[tiledb.Attr(name='a', dtype=int), tiledb.Attr(name='b', dtype=int), tiledb.Attr(name='c', dtype=int)])\n",
    "schema.check()\n",
    "tiledb.Array.create(db_path, schema)"
   ]
  },
  {
   "cell_type": "code",
   "execution_count": 63,
   "id": "12d01a2e",
   "metadata": {},
   "outputs": [],
   "source": [
    "x = np.arange(10000000, dtype=np.float64) / 1000\n",
    "y = x.copy()\n",
    "z = x.copy()\n",
    "a = np.arange(10000000, dtype=np.float64) + 5\n",
    "b = np.arange(10000000, dtype=np.float64) + 1000000\n",
    "c = np.arange(10000000, dtype=np.float64) * -1\n",
    "df = pd.DataFrame({'x':x,'y':y,'z':z,'a':a,'b':b,'c':c})\n"
   ]
  },
  {
   "cell_type": "code",
   "execution_count": 64,
   "id": "b7dd7fa1",
   "metadata": {},
   "outputs": [],
   "source": [
    "with tiledb.SparseArray(db_path, mode='w') as db:\n",
    "    db[x,y,z] = {'a':a, 'b':b, 'c':c}\n",
    "    #db[tmp2['x'], tmp2['y'], tmp2['z']] = tmp2"
   ]
  },
  {
   "cell_type": "code",
   "execution_count": null,
   "id": "bff1b159",
   "metadata": {},
   "outputs": [],
   "source": [
    "py.init_buffer_bytes"
   ]
  },
  {
   "cell_type": "code",
   "execution_count": 75,
   "id": "468625e7",
   "metadata": {},
   "outputs": [
    {
     "name": "stdout",
     "output_type": "stream",
     "text": [
      "{'a': EstimatedResultSize(offsets_bytes=0, data_bytes=80000000), 'x': EstimatedResultSize(offsets_bytes=0, data_bytes=80000000), 'y': EstimatedResultSize(offsets_bytes=0, data_bytes=80000000), 'z': EstimatedResultSize(offsets_bytes=0, data_bytes=80000000)}\n"
     ]
    }
   ],
   "source": [
    "with tiledb.SparseArray(db_path) as db:\n",
    "    query = db.query(attrs=['a'], return_incomplete=True)\n",
    "    iterable = query.multi_index[:,:,:]\n",
    "    iterable.pyquery = _get_pyquery(db, query, iterable.use_arrow)\n",
    "    iterable.pyquery._preload_metadata = True\n",
    "    iterable.pyquery.set_ranges(iterable.ranges)\n",
    "    iterable.pyquery._return_incomplete = (\n",
    "                iterable.query and iterable.query.return_incomplete\n",
    "            )\n",
    "    iterable.pyquery.submit()\n",
    "    #for t in iterable:\n",
    "    #    print(\"Iteration\")\n",
    "    #    tmp = t\n",
    "    print(iterable.estimated_result_sizes())"
   ]
  },
  {
   "cell_type": "code",
   "execution_count": 81,
   "id": "9b41ae33",
   "metadata": {},
   "outputs": [
    {
     "data": {
      "text/plain": [
       "['__init__',\n",
       " '__doc__',\n",
       " '__module__',\n",
       " 'buffer_dtype',\n",
       " 'results',\n",
       " 'set_ranges',\n",
       " 'set_subarray',\n",
       " 'set_attr_cond',\n",
       " 'submit',\n",
       " 'unpack_buffer',\n",
       " 'estimated_result_sizes',\n",
       " '_allocate_buffers',\n",
       " '_get_buffers',\n",
       " '_buffer_to_pa',\n",
       " '_buffers_to_pa_table',\n",
       " '_test_array',\n",
       " '_test_err',\n",
       " '_preload_metadata',\n",
       " '_return_incomplete',\n",
       " 'is_incomplete',\n",
       " '_test_init_buffer_bytes',\n",
       " '_test_alloc_max_bytes',\n",
       " 'retries',\n",
       " '__new__',\n",
       " '__repr__',\n",
       " '__hash__',\n",
       " '__str__',\n",
       " '__getattribute__',\n",
       " '__setattr__',\n",
       " '__delattr__',\n",
       " '__lt__',\n",
       " '__le__',\n",
       " '__eq__',\n",
       " '__ne__',\n",
       " '__gt__',\n",
       " '__ge__',\n",
       " '__reduce_ex__',\n",
       " '__reduce__',\n",
       " '__subclasshook__',\n",
       " '__init_subclass__',\n",
       " '__format__',\n",
       " '__sizeof__',\n",
       " '__dir__',\n",
       " '__class__']"
      ]
     },
     "execution_count": 81,
     "metadata": {},
     "output_type": "execute_result"
    }
   ],
   "source": [
    "iterable.pyquery.__dir__()"
   ]
  },
  {
   "cell_type": "code",
   "execution_count": 17,
   "id": "95172d00",
   "metadata": {},
   "outputs": [
    {
     "ename": "TileDBError",
     "evalue": "Query not initialized",
     "output_type": "error",
     "traceback": [
      "\u001b[0;31m---------------------------------------------------------------------------\u001b[0m",
      "\u001b[0;31mTileDBError\u001b[0m                               Traceback (most recent call last)",
      "\u001b[0;32m/tmp/ipykernel_451/2795068395.py\u001b[0m in \u001b[0;36m<module>\u001b[0;34m\u001b[0m\n\u001b[0;32m----> 1\u001b[0;31m \u001b[0mtmp2\u001b[0m\u001b[0;34m.\u001b[0m\u001b[0mestimated_result_sizes\u001b[0m\u001b[0;34m(\u001b[0m\u001b[0;34m)\u001b[0m\u001b[0;34m\u001b[0m\u001b[0;34m\u001b[0m\u001b[0m\n\u001b[0m",
      "\u001b[0;32m/opt/conda/envs/env/lib/python3.7/site-packages/tiledb/multirange_indexing.py\u001b[0m in \u001b[0;36mestimated_result_sizes\u001b[0;34m(self)\u001b[0m\n\u001b[1;32m    242\u001b[0m         \u001b[0mresults\u001b[0m \u001b[0;34m=\u001b[0m \u001b[0;34m{\u001b[0m\u001b[0;34m}\u001b[0m\u001b[0;34m\u001b[0m\u001b[0;34m\u001b[0m\u001b[0m\n\u001b[1;32m    243\u001b[0m         \u001b[0;32mif\u001b[0m \u001b[0;32mnot\u001b[0m \u001b[0mself\u001b[0m\u001b[0;34m.\u001b[0m\u001b[0mpyquery\u001b[0m\u001b[0;34m:\u001b[0m\u001b[0;34m\u001b[0m\u001b[0;34m\u001b[0m\u001b[0m\n\u001b[0;32m--> 244\u001b[0;31m             \u001b[0;32mraise\u001b[0m \u001b[0mTileDBError\u001b[0m\u001b[0;34m(\u001b[0m\u001b[0;34m\"Query not initialized\"\u001b[0m\u001b[0;34m)\u001b[0m\u001b[0;34m\u001b[0m\u001b[0;34m\u001b[0m\u001b[0m\n\u001b[0m\u001b[1;32m    245\u001b[0m         \u001b[0mtmp\u001b[0m \u001b[0;34m=\u001b[0m \u001b[0mself\u001b[0m\u001b[0;34m.\u001b[0m\u001b[0mpyquery\u001b[0m\u001b[0;34m.\u001b[0m\u001b[0mestimated_result_sizes\u001b[0m\u001b[0;34m(\u001b[0m\u001b[0;34m)\u001b[0m\u001b[0;34m\u001b[0m\u001b[0;34m\u001b[0m\u001b[0m\n\u001b[1;32m    246\u001b[0m         \u001b[0;32mfor\u001b[0m \u001b[0mname\u001b[0m\u001b[0;34m,\u001b[0m \u001b[0mval\u001b[0m \u001b[0;32min\u001b[0m \u001b[0mtmp\u001b[0m\u001b[0;34m.\u001b[0m\u001b[0mitems\u001b[0m\u001b[0;34m(\u001b[0m\u001b[0;34m)\u001b[0m\u001b[0;34m:\u001b[0m\u001b[0;34m\u001b[0m\u001b[0;34m\u001b[0m\u001b[0m\n",
      "\u001b[0;31mTileDBError\u001b[0m: Query not initialized"
     ]
    }
   ],
   "source": [
    "tmp2.estimated_result_sizes()"
   ]
  },
  {
   "cell_type": "code",
   "execution_count": 24,
   "id": "bfc77e44",
   "metadata": {},
   "outputs": [
    {
     "data": {
      "text/plain": [
       "array([[ 1.,  1.,  1.,  1., 11., 21.],\n",
       "       [ 2.,  2.,  2.,  2., 12., 22.],\n",
       "       [ 3.,  3.,  3.,  3., 23., 23.]])"
      ]
     },
     "execution_count": 24,
     "metadata": {},
     "output_type": "execute_result"
    }
   ],
   "source": [
    "df.to_numpy()"
   ]
  },
  {
   "cell_type": "code",
   "execution_count": 94,
   "id": "8f8968ec",
   "metadata": {},
   "outputs": [
    {
     "data": {
      "text/plain": [
       "(2, 4)"
      ]
     },
     "execution_count": 94,
     "metadata": {},
     "output_type": "execute_result"
    }
   ],
   "source": [
    "img[::2,:].shape"
   ]
  },
  {
   "cell_type": "code",
   "execution_count": 96,
   "id": "86d5354b",
   "metadata": {},
   "outputs": [
    {
     "data": {
      "text/plain": [
       "array([[ 3.5,  5.5],\n",
       "       [11.5, 13.5]])"
      ]
     },
     "execution_count": 96,
     "metadata": {},
     "output_type": "execute_result"
    }
   ],
   "source": [
    "np.stack([img[::2,::2], img[1::2,::2], img[::2,1::2], img[1::2,1::2]], axis=2).mean(axis=2)"
   ]
  },
  {
   "cell_type": "code",
   "execution_count": 91,
   "id": "810e7f24",
   "metadata": {},
   "outputs": [
    {
     "data": {
      "text/plain": [
       "array([1., 1., 1., 1., 1., 1., 1., 1., 1., 1.])"
      ]
     },
     "execution_count": 91,
     "metadata": {},
     "output_type": "execute_result"
    }
   ],
   "source": [
    "f = np.ones(10)\n",
    "np.ceil(f)"
   ]
  },
  {
   "cell_type": "code",
   "execution_count": 69,
   "id": "519a7dce",
   "metadata": {},
   "outputs": [
    {
     "ename": "UFuncTypeError",
     "evalue": "ufunc 'add' did not contain a loop with signature matching types (dtype([('f0', '<i4'), ('f1', '<i4'), ('f2', '<i4')]), dtype([('f0', '<i4'), ('f1', '<i4'), ('f2', '<i4')])) -> dtype([('f0', '<i4'), ('f1', '<i4'), ('f2', '<i4')])",
     "output_type": "error",
     "traceback": [
      "\u001b[0;31m---------------------------------------------------------------------------\u001b[0m",
      "\u001b[0;31mUFuncTypeError\u001b[0m                            Traceback (most recent call last)",
      "\u001b[0;32m/tmp/ipykernel_10260/1971168497.py\u001b[0m in \u001b[0;36m<module>\u001b[0;34m\u001b[0m\n\u001b[0;32m----> 1\u001b[0;31m \u001b[0mt\u001b[0m\u001b[0;34m.\u001b[0m\u001b[0mview\u001b[0m\u001b[0;34m(\u001b[0m\u001b[0mnp\u001b[0m\u001b[0;34m.\u001b[0m\u001b[0mdtype\u001b[0m\u001b[0;34m(\u001b[0m\u001b[0;34m'i4,i4,i4'\u001b[0m\u001b[0;34m)\u001b[0m\u001b[0;34m)\u001b[0m \u001b[0;34m+\u001b[0m \u001b[0mt2\u001b[0m\u001b[0;34m.\u001b[0m\u001b[0mview\u001b[0m\u001b[0;34m(\u001b[0m\u001b[0mnp\u001b[0m\u001b[0;34m.\u001b[0m\u001b[0mdtype\u001b[0m\u001b[0;34m(\u001b[0m\u001b[0;34m'i4,i4,i4'\u001b[0m\u001b[0;34m)\u001b[0m\u001b[0;34m)\u001b[0m\u001b[0;34m\u001b[0m\u001b[0;34m\u001b[0m\u001b[0m\n\u001b[0m",
      "\u001b[0;31mUFuncTypeError\u001b[0m: ufunc 'add' did not contain a loop with signature matching types (dtype([('f0', '<i4'), ('f1', '<i4'), ('f2', '<i4')]), dtype([('f0', '<i4'), ('f1', '<i4'), ('f2', '<i4')])) -> dtype([('f0', '<i4'), ('f1', '<i4'), ('f2', '<i4')])"
     ]
    }
   ],
   "source": [
    "t.view(np.dtype('i4,i4,i4')) + t2.view(np.dtype('i4,i4,i4'))"
   ]
  },
  {
   "cell_type": "code",
   "execution_count": 65,
   "id": "3cc17e6a",
   "metadata": {},
   "outputs": [],
   "source": [
    "schema = tiledb.ArraySchema(domain=dom, attrs=[(tiledb.Attr(name=\"a1\", dtype=np.int64)),])"
   ]
  },
  {
   "cell_type": "code",
   "execution_count": 13,
   "id": "285a999c",
   "metadata": {},
   "outputs": [],
   "source": [
    "ar = tiledb.DenseArray.create(db_path, schema)"
   ]
  },
  {
   "cell_type": "code",
   "execution_count": 15,
   "id": "33c5c298",
   "metadata": {},
   "outputs": [
    {
     "data": {
      "text/plain": [
       "NoneType"
      ]
     },
     "execution_count": 15,
     "metadata": {},
     "output_type": "execute_result"
    }
   ],
   "source": [
    "type(ar)"
   ]
  },
  {
   "cell_type": "code",
   "execution_count": 50,
   "id": "92478582",
   "metadata": {},
   "outputs": [
    {
     "name": "stdout",
     "output_type": "stream",
     "text": [
      "[[1 1 1 1 1 4 1 1 1 1]\n",
      " [1 1 1 1 1 4 1 1 1 1]\n",
      " [1 1 1 1 1 4 1 1 1 1]\n",
      " [1 1 1 1 1 4 1 1 1 1]\n",
      " [1 1 1 1 1 4 1 1 1 1]\n",
      " [1 1 1 1 1 4 1 1 1 1]\n",
      " [1 1 1 1 1 4 1 1 1 1]\n",
      " [1 1 1 1 1 4 1 1 1 1]\n",
      " [1 1 1 1 1 4 1 1 1 1]\n",
      " [1 1 1 1 1 4 1 1 1 1]]\n"
     ]
    }
   ],
   "source": [
    "for i in range(1):\n",
    "    with tiledb.DenseArray(db_path, mode='r') as A0:\n",
    "        with tiledb.DenseArray(db_path, mode='w') as A:\n",
    "            t = np.ones((10,10))\n",
    "            t[0:10, 5] = 5\n",
    "            A[100000:100010, 100000:100010] = {\"a1\": t}\n",
    "        print(A0[100000:100010, 100000:100010][\"a1\"])\n",
    "        #A[1,1] = {'a1', np.ones((1,), dtype=np.int64)}"
   ]
  },
  {
   "cell_type": "code",
   "execution_count": 51,
   "id": "8de33835",
   "metadata": {},
   "outputs": [
    {
     "data": {
      "text/plain": [
       "array([5, 5, 5, 5, 5, 5, 5, 5, 5, 5])"
      ]
     },
     "execution_count": 51,
     "metadata": {},
     "output_type": "execute_result"
    }
   ],
   "source": [
    "\n",
    "with tiledb.DenseArray(db_path, mode='r') as A:\n",
    "        for i in range(100):\n",
    "                tmp = A[100000:100010, 100000:100010][\"a1\"]\n",
    "tmp[0:10, 5]"
   ]
  },
  {
   "cell_type": "code",
   "execution_count": null,
   "id": "80c065d2",
   "metadata": {},
   "outputs": [],
   "source": []
  }
 ],
 "metadata": {
  "interpreter": {
   "hash": "06217459e5ebcd87f7dbc73abff955c789972eb225a59b85b696bf601b5ed8ce"
  },
  "kernelspec": {
   "display_name": "Python 3.7.12 64-bit ('env': conda)",
   "name": "python3"
  },
  "language_info": {
   "codemirror_mode": {
    "name": "ipython",
    "version": 3
   },
   "file_extension": ".py",
   "mimetype": "text/x-python",
   "name": "python",
   "nbconvert_exporter": "python",
   "pygments_lexer": "ipython3",
   "version": "3.7.12"
  }
 },
 "nbformat": 4,
 "nbformat_minor": 5
}
